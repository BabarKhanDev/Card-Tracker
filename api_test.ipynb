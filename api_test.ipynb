{
 "cells": [
  {
   "cell_type": "code",
   "execution_count": 13,
   "metadata": {},
   "outputs": [],
   "source": [
    "from pokemontcgsdk import Card\n",
    "from pokemontcgsdk import Set\n",
    "from pokemontcgsdk import Type\n",
    "from pokemontcgsdk import Supertype\n",
    "from pokemontcgsdk import Subtype\n",
    "from pokemontcgsdk import Rarity\n",
    "\n",
    "from pokemontcgsdk import RestClient\n",
    "\n",
    "with open(\"options.txt\", \"r\") as file:\n",
    "    option_lines = file.readlines()\n",
    "    \n",
    "api_key = option_lines[0].split(\" = \")[1]\n",
    "\n",
    "RestClient.configure(api_key)"
   ]
  },
  {
   "attachments": {},
   "cell_type": "markdown",
   "metadata": {},
   "source": [
    "#### Set Caching"
   ]
  },
  {
   "cell_type": "code",
   "execution_count": 5,
   "metadata": {},
   "outputs": [
    {
     "name": "stdout",
     "output_type": "stream",
     "text": [
      "[{'image_URL': 'https://images.pokemontcg.io/sv1/logo.png', 'name': 'Scarlet & Violet', 'series': 'Scarlet & Violet', 'release_date': '2023/03/31'}, {'image_URL': 'https://images.pokemontcg.io/swsh12pt5gg/logo.png', 'name': 'Crown Zenith Galarian Gallery', 'series': 'Sword & Shield', 'release_date': '2023/01/20'}, {'image_URL': 'https://images.pokemontcg.io/swsh12pt5/logo.png', 'name': 'Crown Zenith', 'series': 'Sword & Shield', 'release_date': '2023/01/20'}, {'image_URL': 'https://images.pokemontcg.io/svp/logo.png', 'name': 'Scarlet & Violet Black Star Promos', 'series': 'Scarlet & Violet', 'release_date': '2023/01/01'}, {'image_URL': 'https://images.pokemontcg.io/swsh12/logo.png', 'name': 'Silver Tempest', 'series': 'Sword & Shield', 'release_date': '2022/11/11'}, {'image_URL': 'https://images.pokemontcg.io/swsh12tg/logo.png', 'name': 'Silver Tempest Trainer Gallery', 'series': 'Sword & Shield', 'release_date': '2022/11/11'}, {'image_URL': 'https://images.pokemontcg.io/swsh11tg/logo.png', 'name': 'Lost Origin Trainer Gallery', 'series': 'Sword & Shield', 'release_date': '2022/09/09'}, {'image_URL': 'https://images.pokemontcg.io/swsh11/logo.png', 'name': 'Lost Origin', 'series': 'Sword & Shield', 'release_date': '2022/09/09'}, {'image_URL': 'https://images.pokemontcg.io/mcd22/logo.png', 'name': \"McDonald's Collection 2022\", 'series': 'Other', 'release_date': '2022/08/03'}, {'image_URL': 'https://images.pokemontcg.io/pgo/logo.png', 'name': 'Pokémon GO', 'series': 'Sword & Shield', 'release_date': '2022/07/01'}, {'image_URL': 'https://images.pokemontcg.io/swsh10/logo.png', 'name': 'Astral Radiance', 'series': 'Sword & Shield', 'release_date': '2022/05/27'}, {'image_URL': 'https://images.pokemontcg.io/swsh10tg/logo.png', 'name': 'Astral Radiance Trainer Gallery', 'series': 'Sword & Shield', 'release_date': '2022/05/27'}, {'image_URL': 'https://images.pokemontcg.io/swsh9/logo.png', 'name': 'Brilliant Stars', 'series': 'Sword & Shield', 'release_date': '2022/02/25'}, {'image_URL': 'https://images.pokemontcg.io/swsh9tg/logo.png', 'name': 'Brilliant Stars Trainer Gallery', 'series': 'Sword & Shield', 'release_date': '2022/02/25'}, {'image_URL': 'https://images.pokemontcg.io/swsh8/logo.png', 'name': 'Fusion Strike', 'series': 'Sword & Shield', 'release_date': '2021/11/12'}, {'image_URL': 'https://images.pokemontcg.io/cel25c/logo.png', 'name': 'Celebrations: Classic Collection', 'series': 'Sword & Shield', 'release_date': '2021/10/08'}, {'image_URL': 'https://images.pokemontcg.io/cel25/logo.png', 'name': 'Celebrations', 'series': 'Sword & Shield', 'release_date': '2021/10/08'}, {'image_URL': 'https://images.pokemontcg.io/swsh7/logo.png', 'name': 'Evolving Skies', 'series': 'Sword & Shield', 'release_date': '2021/08/27'}, {'image_URL': 'https://images.pokemontcg.io/swsh6/logo.png', 'name': 'Chilling Reign', 'series': 'Sword & Shield', 'release_date': '2021/06/18'}, {'image_URL': 'https://images.pokemontcg.io/swsh5/logo.png', 'name': 'Battle Styles', 'series': 'Sword & Shield', 'release_date': '2021/03/19'}, {'image_URL': 'https://images.pokemontcg.io/swsh45sv/logo.png', 'name': 'Shiny Vault', 'series': 'Sword & Shield', 'release_date': '2021/02/19'}, {'image_URL': 'https://images.pokemontcg.io/swsh45/logo.png', 'name': 'Shining Fates', 'series': 'Sword & Shield', 'release_date': '2021/02/19'}, {'image_URL': 'https://images.pokemontcg.io/mcd21/logo.png', 'name': \"McDonald's Collection 2021\", 'series': 'Other', 'release_date': '2021/02/09'}, {'image_URL': 'https://images.pokemontcg.io/swsh4/logo.png', 'name': 'Vivid Voltage', 'series': 'Sword & Shield', 'release_date': '2020/11/13'}, {'image_URL': 'https://images.pokemontcg.io/swsh35/logo.png', 'name': \"Champion's Path\", 'series': 'Sword & Shield', 'release_date': '2020/09/25'}, {'image_URL': 'https://images.pokemontcg.io/fut20/logo.png', 'name': 'Pokémon Futsal Collection', 'series': 'Other', 'release_date': '2020/09/11'}, {'image_URL': 'https://images.pokemontcg.io/swsh3/logo.png', 'name': 'Darkness Ablaze', 'series': 'Sword & Shield', 'release_date': '2020/08/14'}, {'image_URL': 'https://images.pokemontcg.io/swsh2/logo.png', 'name': 'Rebel Clash', 'series': 'Sword & Shield', 'release_date': '2020/05/01'}, {'image_URL': 'https://images.pokemontcg.io/swsh1/logo.png', 'name': 'Sword & Shield', 'series': 'Sword & Shield', 'release_date': '2020/02/07'}, {'image_URL': 'https://images.pokemontcg.io/swshp/logo.png', 'name': 'SWSH Black Star Promos', 'series': 'Sword & Shield', 'release_date': '2019/11/15'}, {'image_URL': 'https://images.pokemontcg.io/sm12/logo.png', 'name': 'Cosmic Eclipse', 'series': 'Sun & Moon', 'release_date': '2019/11/01'}, {'image_URL': 'https://images.pokemontcg.io/mcd19/logo.png', 'name': \"McDonald's Collection 2019\", 'series': 'Other', 'release_date': '2019/10/15'}, {'image_URL': 'https://images.pokemontcg.io/sm115/logo.png', 'name': 'Hidden Fates', 'series': 'Sun & Moon', 'release_date': '2019/08/23'}, {'image_URL': 'https://images.pokemontcg.io/sma/logo.png', 'name': 'Shiny Vault', 'series': 'Sun & Moon', 'release_date': '2019/08/23'}, {'image_URL': 'https://images.pokemontcg.io/sm11/logo.png', 'name': 'Unified Minds', 'series': 'Sun & Moon', 'release_date': '2019/08/02'}, {'image_URL': 'https://images.pokemontcg.io/sm10/logo.png', 'name': 'Unbroken Bonds', 'series': 'Sun & Moon', 'release_date': '2019/05/03'}, {'image_URL': 'https://images.pokemontcg.io/det1/logo.png', 'name': 'Detective Pikachu', 'series': 'Sun & Moon', 'release_date': '2019/04/05'}, {'image_URL': 'https://images.pokemontcg.io/sm9/logo.png', 'name': 'Team Up', 'series': 'Sun & Moon', 'release_date': '2019/02/01'}, {'image_URL': 'https://images.pokemontcg.io/sm8/logo.png', 'name': 'Lost Thunder', 'series': 'Sun & Moon', 'release_date': '2018/11/02'}, {'image_URL': 'https://images.pokemontcg.io/mcd18/logo.png', 'name': \"McDonald's Collection 2018\", 'series': 'Other', 'release_date': '2018/10/16'}, {'image_URL': 'https://images.pokemontcg.io/sm75/logo.png', 'name': 'Dragon Majesty', 'series': 'Sun & Moon', 'release_date': '2018/09/07'}, {'image_URL': 'https://images.pokemontcg.io/sm7/logo.png', 'name': 'Celestial Storm', 'series': 'Sun & Moon', 'release_date': '2018/08/03'}, {'image_URL': 'https://images.pokemontcg.io/sm6/logo.png', 'name': 'Forbidden Light', 'series': 'Sun & Moon', 'release_date': '2018/05/04'}, {'image_URL': 'https://images.pokemontcg.io/sm5/logo.png', 'name': 'Ultra Prism', 'series': 'Sun & Moon', 'release_date': '2018/02/02'}, {'image_URL': 'https://images.pokemontcg.io/mcd17/logo.png', 'name': \"McDonald's Collection 2017\", 'series': 'Other', 'release_date': '2017/11/07'}, {'image_URL': 'https://images.pokemontcg.io/sm4/logo.png', 'name': 'Crimson Invasion', 'series': 'Sun & Moon', 'release_date': '2017/11/03'}, {'image_URL': 'https://images.pokemontcg.io/sm35/logo.png', 'name': 'Shining Legends', 'series': 'Sun & Moon', 'release_date': '2017/10/06'}, {'image_URL': 'https://images.pokemontcg.io/sm3/logo.png', 'name': 'Burning Shadows', 'series': 'Sun & Moon', 'release_date': '2017/08/05'}, {'image_URL': 'https://images.pokemontcg.io/sm2/logo.png', 'name': 'Guardians Rising', 'series': 'Sun & Moon', 'release_date': '2017/05/05'}, {'image_URL': 'https://images.pokemontcg.io/smp/logo.png', 'name': 'SM Black Star Promos', 'series': 'Sun & Moon', 'release_date': '2017/02/03'}, {'image_URL': 'https://images.pokemontcg.io/sm1/logo.png', 'name': 'Sun & Moon', 'series': 'Sun & Moon', 'release_date': '2017/02/03'}, {'image_URL': 'https://images.pokemontcg.io/xy12/logo.png', 'name': 'Evolutions', 'series': 'XY', 'release_date': '2016/11/02'}, {'image_URL': 'https://images.pokemontcg.io/mcd16/logo.png', 'name': \"McDonald's Collection 2016\", 'series': 'Other', 'release_date': '2016/08/19'}, {'image_URL': 'https://images.pokemontcg.io/xy11/logo.png', 'name': 'Steam Siege', 'series': 'XY', 'release_date': '2016/08/03'}, {'image_URL': 'https://images.pokemontcg.io/xy10/logo.png', 'name': 'Fates Collide', 'series': 'XY', 'release_date': '2016/05/02'}, {'image_URL': 'https://images.pokemontcg.io/g1/logo.png', 'name': 'Generations', 'series': 'XY', 'release_date': '2016/02/22'}, {'image_URL': 'https://images.pokemontcg.io/xy9/logo.png', 'name': 'BREAKpoint', 'series': 'XY', 'release_date': '2016/02/03'}, {'image_URL': 'https://images.pokemontcg.io/mcd15/logo.png', 'name': \"McDonald's Collection 2015\", 'series': 'Other', 'release_date': '2015/11/27'}, {'image_URL': 'https://images.pokemontcg.io/xy8/logo.png', 'name': 'BREAKthrough', 'series': 'XY', 'release_date': '2015/11/04'}, {'image_URL': 'https://images.pokemontcg.io/xy7/logo.png', 'name': 'Ancient Origins', 'series': 'XY', 'release_date': '2015/08/12'}, {'image_URL': 'https://images.pokemontcg.io/xy6/logo.png', 'name': 'Roaring Skies', 'series': 'XY', 'release_date': '2015/05/06'}, {'image_URL': 'https://images.pokemontcg.io/dc1/logo.png', 'name': 'Double Crisis', 'series': 'XY', 'release_date': '2015/03/25'}, {'image_URL': 'https://images.pokemontcg.io/xy5/logo.png', 'name': 'Primal Clash', 'series': 'XY', 'release_date': '2015/02/04'}, {'image_URL': 'https://images.pokemontcg.io/xy4/logo.png', 'name': 'Phantom Forces', 'series': 'XY', 'release_date': '2014/11/05'}, {'image_URL': 'https://images.pokemontcg.io/xy3/logo.png', 'name': 'Furious Fists', 'series': 'XY', 'release_date': '2014/08/13'}, {'image_URL': 'https://images.pokemontcg.io/mcd14/logo.png', 'name': \"McDonald's Collection 2014\", 'series': 'Other', 'release_date': '2014/05/23'}, {'image_URL': 'https://images.pokemontcg.io/xy2/logo.png', 'name': 'Flashfire', 'series': 'XY', 'release_date': '2014/05/07'}, {'image_URL': 'https://images.pokemontcg.io/xy1/logo.png', 'name': 'XY', 'series': 'XY', 'release_date': '2014/02/05'}, {'image_URL': 'https://images.pokemontcg.io/xy0/logo.png', 'name': 'Kalos Starter Set', 'series': 'XY', 'release_date': '2013/11/08'}, {'image_URL': 'https://images.pokemontcg.io/bw11/logo.png', 'name': 'Legendary Treasures', 'series': 'Black & White', 'release_date': '2013/11/06'}, {'image_URL': 'https://images.pokemontcg.io/xyp/logo.png', 'name': 'XY Black Star Promos', 'series': 'XY', 'release_date': '2013/10/12'}, {'image_URL': 'https://images.pokemontcg.io/bw10/logo.png', 'name': 'Plasma Blast', 'series': 'Black & White', 'release_date': '2013/08/14'}, {'image_URL': 'https://images.pokemontcg.io/bw9/logo.png', 'name': 'Plasma Freeze', 'series': 'Black & White', 'release_date': '2013/05/08'}, {'image_URL': 'https://images.pokemontcg.io/bw8/logo.png', 'name': 'Plasma Storm', 'series': 'Black & White', 'release_date': '2013/02/06'}, {'image_URL': 'https://images.pokemontcg.io/bw7/logo.png', 'name': 'Boundaries Crossed', 'series': 'Black & White', 'release_date': '2012/11/07'}, {'image_URL': 'https://images.pokemontcg.io/dv1/logo.png', 'name': 'Dragon Vault', 'series': 'Black & White', 'release_date': '2012/10/05'}, {'image_URL': 'https://images.pokemontcg.io/bw6/logo.png', 'name': 'Dragons Exalted', 'series': 'Black & White', 'release_date': '2012/08/15'}, {'image_URL': 'https://images.pokemontcg.io/mcd12/logo.png', 'name': \"McDonald's Collection 2012\", 'series': 'Other', 'release_date': '2012/06/15'}, {'image_URL': 'https://images.pokemontcg.io/bw5/logo.png', 'name': 'Dark Explorers', 'series': 'Black & White', 'release_date': '2012/05/09'}, {'image_URL': 'https://images.pokemontcg.io/bw4/logo.png', 'name': 'Next Destinies', 'series': 'Black & White', 'release_date': '2012/02/08'}, {'image_URL': 'https://images.pokemontcg.io/bw3/logo.png', 'name': 'Noble Victories', 'series': 'Black & White', 'release_date': '2011/11/16'}, {'image_URL': 'https://images.pokemontcg.io/bw2/logo.png', 'name': 'Emerging Powers', 'series': 'Black & White', 'release_date': '2011/08/31'}, {'image_URL': 'https://images.pokemontcg.io/mcd11/logo.png', 'name': \"McDonald's Collection 2011\", 'series': 'Other', 'release_date': '2011/06/17'}, {'image_URL': 'https://images.pokemontcg.io/bw1/logo.png', 'name': 'Black & White', 'series': 'Black & White', 'release_date': '2011/04/25'}, {'image_URL': 'https://images.pokemontcg.io/bwp/logo.png', 'name': 'BW Black Star Promos', 'series': 'Black & White', 'release_date': '2011/03/01'}, {'image_URL': 'https://images.pokemontcg.io/col1/logo.png', 'name': 'Call of Legends', 'series': 'HeartGold & SoulSilver', 'release_date': '2011/02/09'}, {'image_URL': 'https://images.pokemontcg.io/hgss4/logo.png', 'name': 'HS—Triumphant', 'series': 'HeartGold & SoulSilver', 'release_date': '2010/11/03'}, {'image_URL': 'https://images.pokemontcg.io/hgss3/logo.png', 'name': 'HS—Undaunted', 'series': 'HeartGold & SoulSilver', 'release_date': '2010/08/18'}, {'image_URL': 'https://images.pokemontcg.io/hgss2/logo.png', 'name': 'HS—Unleashed', 'series': 'HeartGold & SoulSilver', 'release_date': '2010/05/12'}, {'image_URL': 'https://images.pokemontcg.io/hgss1/logo.png', 'name': 'HeartGold & SoulSilver', 'series': 'HeartGold & SoulSilver', 'release_date': '2010/02/10'}, {'image_URL': 'https://images.pokemontcg.io/hsp/logo.png', 'name': 'HGSS Black Star Promos', 'series': 'HeartGold & SoulSilver', 'release_date': '2010/02/10'}, {'image_URL': 'https://images.pokemontcg.io/ru1/logo.png', 'name': 'Pokémon Rumble', 'series': 'Other', 'release_date': '2009/12/02'}, {'image_URL': 'https://images.pokemontcg.io/pl4/logo.png', 'name': 'Arceus', 'series': 'Platinum', 'release_date': '2009/11/04'}, {'image_URL': 'https://images.pokemontcg.io/pl3/logo.png', 'name': 'Supreme Victors', 'series': 'Platinum', 'release_date': '2009/08/19'}, {'image_URL': 'https://images.pokemontcg.io/pl2/logo.png', 'name': 'Rising Rivals', 'series': 'Platinum', 'release_date': '2009/05/16'}, {'image_URL': 'https://images.pokemontcg.io/pop9/logo.png', 'name': 'POP Series 9', 'series': 'POP', 'release_date': '2009/03/01'}, {'image_URL': 'https://images.pokemontcg.io/pl1/logo.png', 'name': 'Platinum', 'series': 'Platinum', 'release_date': '2009/02/11'}, {'image_URL': 'https://images.pokemontcg.io/dp7/logo.png', 'name': 'Stormfront', 'series': 'Diamond & Pearl', 'release_date': '2008/11/01'}, {'image_URL': 'https://images.pokemontcg.io/pop8/logo.png', 'name': 'POP Series 8', 'series': 'POP', 'release_date': '2008/09/01'}, {'image_URL': 'https://images.pokemontcg.io/dp6/logo.png', 'name': 'Legends Awakened', 'series': 'Diamond & Pearl', 'release_date': '2008/08/01'}, {'image_URL': 'https://images.pokemontcg.io/dp5/logo.png', 'name': 'Majestic Dawn', 'series': 'Diamond & Pearl', 'release_date': '2008/05/01'}, {'image_URL': 'https://images.pokemontcg.io/pop7/logo.png', 'name': 'POP Series 7', 'series': 'POP', 'release_date': '2008/03/01'}, {'image_URL': 'https://images.pokemontcg.io/dp4/logo.png', 'name': 'Great Encounters', 'series': 'Diamond & Pearl', 'release_date': '2008/02/01'}, {'image_URL': 'https://images.pokemontcg.io/dp3/logo.png', 'name': 'Secret Wonders', 'series': 'Diamond & Pearl', 'release_date': '2007/11/01'}, {'image_URL': 'https://images.pokemontcg.io/pop6/logo.png', 'name': 'POP Series 6', 'series': 'POP', 'release_date': '2007/09/01'}, {'image_URL': 'https://images.pokemontcg.io/dp2/logo.png', 'name': 'Mysterious Treasures', 'series': 'Diamond & Pearl', 'release_date': '2007/08/01'}, {'image_URL': 'https://images.pokemontcg.io/dpp/logo.png', 'name': 'DP Black Star Promos', 'series': 'Diamond & Pearl', 'release_date': '2007/05/01'}, {'image_URL': 'https://images.pokemontcg.io/dp1/logo.png', 'name': 'Diamond & Pearl', 'series': 'Diamond & Pearl', 'release_date': '2007/05/01'}, {'image_URL': 'https://images.pokemontcg.io/pop5/logo.png', 'name': 'POP Series 5', 'series': 'POP', 'release_date': '2007/03/01'}, {'image_URL': 'https://images.pokemontcg.io/ex16/logo.png', 'name': 'Power Keepers', 'series': 'EX', 'release_date': '2007/02/02'}, {'image_URL': 'https://images.pokemontcg.io/ex15/logo.png', 'name': 'Dragon Frontiers', 'series': 'EX', 'release_date': '2006/11/01'}, {'image_URL': 'https://images.pokemontcg.io/pop4/logo.png', 'name': 'POP Series 4', 'series': 'POP', 'release_date': '2006/08/01'}, {'image_URL': 'https://images.pokemontcg.io/ex14/logo.png', 'name': 'Crystal Guardians', 'series': 'EX', 'release_date': '2006/08/01'}, {'image_URL': 'https://images.pokemontcg.io/ex13/logo.png', 'name': 'Holon Phantoms', 'series': 'EX', 'release_date': '2006/05/01'}, {'image_URL': 'https://images.pokemontcg.io/pop3/logo.png', 'name': 'POP Series 3', 'series': 'POP', 'release_date': '2006/04/01'}, {'image_URL': 'https://images.pokemontcg.io/tk2a/logo.png', 'name': 'EX Trainer Kit 2 Plusle', 'series': 'EX', 'release_date': '2006/03/01'}, {'image_URL': 'https://images.pokemontcg.io/tk2b/logo.png', 'name': 'EX Trainer Kit 2 Minun', 'series': 'EX', 'release_date': '2006/03/01'}, {'image_URL': 'https://images.pokemontcg.io/ex12/logo.png', 'name': 'Legend Maker', 'series': 'EX', 'release_date': '2006/02/01'}, {'image_URL': 'https://images.pokemontcg.io/ex11/logo.png', 'name': 'Delta Species', 'series': 'EX', 'release_date': '2005/10/31'}, {'image_URL': 'https://images.pokemontcg.io/pop2/logo.png', 'name': 'POP Series 2', 'series': 'POP', 'release_date': '2005/08/01'}, {'image_URL': 'https://images.pokemontcg.io/ex10/logo.png', 'name': 'Unseen Forces', 'series': 'EX', 'release_date': '2005/08/01'}, {'image_URL': 'https://images.pokemontcg.io/ex9/logo.png', 'name': 'Emerald', 'series': 'EX', 'release_date': '2005/05/01'}, {'image_URL': 'https://images.pokemontcg.io/ex8/logo.png', 'name': 'Deoxys', 'series': 'EX', 'release_date': '2005/02/01'}, {'image_URL': 'https://images.pokemontcg.io/ex7/logo.png', 'name': 'Team Rocket Returns', 'series': 'EX', 'release_date': '2004/11/01'}, {'image_URL': 'https://images.pokemontcg.io/pop1/logo.png', 'name': 'POP Series 1', 'series': 'POP', 'release_date': '2004/09/01'}, {'image_URL': 'https://images.pokemontcg.io/ex6/logo.png', 'name': 'FireRed & LeafGreen', 'series': 'EX', 'release_date': '2004/09/01'}, {'image_URL': 'https://images.pokemontcg.io/ex5/logo.png', 'name': 'Hidden Legends', 'series': 'EX', 'release_date': '2004/06/01'}, {'image_URL': 'https://images.pokemontcg.io/tk1a/logo.png', 'name': 'EX Trainer Kit Latias', 'series': 'EX', 'release_date': '2004/06/01'}, {'image_URL': 'https://images.pokemontcg.io/tk1b/logo.png', 'name': 'EX Trainer Kit Latios', 'series': 'EX', 'release_date': '2004/06/01'}, {'image_URL': 'https://images.pokemontcg.io/ex4/logo.png', 'name': 'Team Magma vs Team Aqua', 'series': 'EX', 'release_date': '2004/03/01'}, {'image_URL': 'https://images.pokemontcg.io/np/logo.png', 'name': 'Nintendo Black Star Promos', 'series': 'NP', 'release_date': '2003/10/01'}, {'image_URL': 'https://images.pokemontcg.io/ex2/logo.png', 'name': 'Sandstorm', 'series': 'EX', 'release_date': '2003/09/18'}, {'image_URL': 'https://images.pokemontcg.io/ex3/logo.png', 'name': 'Dragon', 'series': 'EX', 'release_date': '2003/09/18'}, {'image_URL': 'https://images.pokemontcg.io/ex1/logo.png', 'name': 'Ruby & Sapphire', 'series': 'EX', 'release_date': '2003/07/01'}, {'image_URL': 'https://images.pokemontcg.io/ecard3/logo.png', 'name': 'Skyridge', 'series': 'E-Card', 'release_date': '2003/05/12'}, {'image_URL': 'https://images.pokemontcg.io/ecard2/logo.png', 'name': 'Aquapolis', 'series': 'E-Card', 'release_date': '2003/01/15'}, {'image_URL': 'https://images.pokemontcg.io/bp/logo.png', 'name': 'Best of Game', 'series': 'Other', 'release_date': '2002/12/01'}, {'image_URL': 'https://images.pokemontcg.io/ecard1/logo.png', 'name': 'Expedition Base Set', 'series': 'E-Card', 'release_date': '2002/09/15'}, {'image_URL': 'https://images.pokemontcg.io/base6/logo.png', 'name': 'Legendary Collection', 'series': 'Other', 'release_date': '2002/05/24'}, {'image_URL': 'https://images.pokemontcg.io/neo4/logo.png', 'name': 'Neo Destiny', 'series': 'Neo', 'release_date': '2002/02/28'}, {'image_URL': 'https://images.pokemontcg.io/neo3/logo.png', 'name': 'Neo Revelation', 'series': 'Neo', 'release_date': '2001/09/21'}, {'image_URL': 'https://images.pokemontcg.io/si1/logo.png', 'name': 'Southern Islands', 'series': 'Other', 'release_date': '2001/07/31'}, {'image_URL': 'https://images.pokemontcg.io/neo2/logo.png', 'name': 'Neo Discovery', 'series': 'Neo', 'release_date': '2001/06/01'}, {'image_URL': 'https://images.pokemontcg.io/neo1/logo.png', 'name': 'Neo Genesis', 'series': 'Neo', 'release_date': '2000/12/16'}, {'image_URL': 'https://images.pokemontcg.io/gym2/logo.png', 'name': 'Gym Challenge', 'series': 'Gym', 'release_date': '2000/10/16'}, {'image_URL': 'https://images.pokemontcg.io/gym1/logo.png', 'name': 'Gym Heroes', 'series': 'Gym', 'release_date': '2000/08/14'}, {'image_URL': 'https://images.pokemontcg.io/base5/logo.png', 'name': 'Team Rocket', 'series': 'Base', 'release_date': '2000/04/24'}, {'image_URL': 'https://images.pokemontcg.io/base4/logo.png', 'name': 'Base Set 2', 'series': 'Base', 'release_date': '2000/02/24'}, {'image_URL': 'https://images.pokemontcg.io/base3/logo.png', 'name': 'Fossil', 'series': 'Base', 'release_date': '1999/10/10'}, {'image_URL': 'https://images.pokemontcg.io/basep/logo.png', 'name': 'Wizards Black Star Promos', 'series': 'Base', 'release_date': '1999/07/01'}, {'image_URL': 'https://images.pokemontcg.io/base2/logo.png', 'name': 'Jungle', 'series': 'Base', 'release_date': '1999/06/16'}, {'image_URL': 'https://images.pokemontcg.io/base1/logo.png', 'name': 'Base', 'series': 'Base', 'release_date': '1999/01/09'}]\n"
     ]
    }
   ],
   "source": [
    "sets = Set.all()\n",
    "all_sets_data = []\n",
    "\n",
    "for card_set in sets:\n",
    "    all_sets_data.append({\"image_URL\":card_set.images.logo, \"name\":card_set.name, \"series\": card_set.series, \"release_date\": card_set.releaseDate}) \n",
    "\n",
    "all_sets_data = list(sorted(all_sets_data, key = lambda item: item[\"release_date\"], reverse=True))\n",
    "print(all_sets_data)"
   ]
  },
  {
   "cell_type": "code",
   "execution_count": 6,
   "metadata": {},
   "outputs": [],
   "source": [
    "import pickle\n",
    "\n",
    "with open(\"all_sets.pkl\", \"wb\") as file:\n",
    "    pickle.dump(all_sets_data, file)"
   ]
  },
  {
   "attachments": {},
   "cell_type": "markdown",
   "metadata": {},
   "source": [
    "#### Card Caching"
   ]
  },
  {
   "cell_type": "code",
   "execution_count": 17,
   "metadata": {},
   "outputs": [],
   "source": [
    "cards = Card.where(q='set.series:other')"
   ]
  },
  {
   "cell_type": "code",
   "execution_count": 18,
   "metadata": {},
   "outputs": [
    {
     "name": "stdout",
     "output_type": "stream",
     "text": [
      "[Card(abilities=None, artist='Sekio', ancientTrait=None, attacks=[Attack(name='Surprise Attack', cost=['Grass'], convertedEnergyCost=1, damage='20', text='Flip a coin. If tails, this attack does nothing.')], cardmarket=Cardmarket(url='https://prices.pokemontcg.io/cardmarket/mcd19-1', updatedAt='2023/05/23', prices=CardmarketPrices(averageSellPrice=2.26, lowPrice=0.25, trendPrice=1.87, germanProLow=0.0, suggestedPrice=0.0, reverseHoloSell=0.0, reverseHoloLow=0.0, reverseHoloTrend=1.71, lowPriceExPlus=1.0, avg1=1.74, avg7=2.36, avg30=2.21, reverseHoloAvg1=0.5, reverseHoloAvg7=1.71, reverseHoloAvg30=1.37)), convertedRetreatCost=1, evolvesFrom=None, flavorText='When attacked by bird Pokémon, it resists by releasing a terrifically strong odor from its antennae, but it often becomes their prey.', hp='50', id='mcd19-1', images=CardImage(small='https://images.pokemontcg.io/mcd19/1.png', large='https://images.pokemontcg.io/mcd19/1_hires.png'), legalities=Legality(unlimited='Legal', expanded='Legal', standard=None), regulationMark=None, name='Caterpie', nationalPokedexNumbers=[10], number='1', rarity=None, resistances=None, retreatCost=['Colorless'], rules=None, set=Set(id='mcd19', images=SetImage(symbol='https://images.pokemontcg.io/mcd19/symbol.png', logo='https://images.pokemontcg.io/mcd19/logo.png'), legalities=Legality(unlimited='Legal', expanded='Legal', standard=None), name=\"McDonald's Collection 2019\", printedTotal=12, ptcgoCode=None, releaseDate='2019/10/15', series='Other', total=12, updatedAt='2022/10/10 15:12:00'), subtypes=['Basic'], supertype='Pokémon', tcgplayer=TCGPlayer(url='https://prices.pokemontcg.io/tcgplayer/mcd19-1', updatedAt='2023/05/23', prices=TCGPrices(normal=None, holofoil=TCGPrice(low=4.95, mid=6.77, high=11.99, market=5.81, directLow=None), reverseHolofoil=None, firstEditionHolofoil=None, firstEditionNormal=None)), types=['Grass'], weaknesses=[Weakness(type='Fire', value='×2')]), Card(abilities=None, artist='Satoshi Shirai', ancientTrait=None, attacks=[Attack(name='Tropical Shake', cost=['Grass'], convertedEnergyCost=1, damage='20+', text=\"This attack does 20 more damage for each type of basic Energy card in your discard pile. You can't add more than 100 damage in this way.\")], cardmarket=Cardmarket(url='https://prices.pokemontcg.io/cardmarket/mcd19-2', updatedAt='2023/05/23', prices=CardmarketPrices(averageSellPrice=1.39, lowPrice=0.1, trendPrice=1.02, germanProLow=0.0, suggestedPrice=0.0, reverseHoloSell=0.0, reverseHoloLow=0.0, reverseHoloTrend=2.2, lowPriceExPlus=0.75, avg1=0.5, avg7=1.2, avg30=1.46, reverseHoloAvg1=2.0, reverseHoloAvg7=2.23, reverseHoloAvg30=1.54)), convertedRetreatCost=3, evolvesFrom='Exeggcute', flavorText='As it grew taller and taller, it outgrew its reliance on psychic powers, while within it awakened the power of the sleeping dragon.', hp='160', id='mcd19-2', images=CardImage(small='https://images.pokemontcg.io/mcd19/2.png', large='https://images.pokemontcg.io/mcd19/2_hires.png'), legalities=Legality(unlimited='Legal', expanded='Legal', standard=None), regulationMark=None, name='Alolan Exeggutor', nationalPokedexNumbers=[103], number='2', rarity=None, resistances=None, retreatCost=['Colorless', 'Colorless', 'Colorless'], rules=None, set=Set(id='mcd19', images=SetImage(symbol='https://images.pokemontcg.io/mcd19/symbol.png', logo='https://images.pokemontcg.io/mcd19/logo.png'), legalities=Legality(unlimited='Legal', expanded='Legal', standard=None), name=\"McDonald's Collection 2019\", printedTotal=12, ptcgoCode=None, releaseDate='2019/10/15', series='Other', total=12, updatedAt='2022/10/10 15:12:00'), subtypes=['Stage 1'], supertype='Pokémon', tcgplayer=TCGPlayer(url='https://prices.pokemontcg.io/tcgplayer/mcd19-2', updatedAt='2023/05/23', prices=TCGPrices(normal=None, holofoil=TCGPrice(low=1.28, mid=3.47, high=8.46, market=3.74, directLow=None), reverseHolofoil=None, firstEditionHolofoil=None, firstEditionNormal=None)), types=['Grass'], weaknesses=[Weakness(type='Fire', value='×2')]), Card(abilities=None, artist='Keiko Fukuyama', ancientTrait=None, attacks=[Attack(name='Rainbow Wave', cost=['Psychic'], convertedEnergyCost=1, damage='', text=\"Choose a type of Energy other than Colorless attached to Mew. This attack does 20 damage to each of your opponent's Pokémon of that type (including Benched Pokémon). Don't apply Weakness and Resistance.\")], cardmarket=Cardmarket(url='https://prices.pokemontcg.io/cardmarket/si1-1', updatedAt='2023/05/23', prices=CardmarketPrices(averageSellPrice=67.93, lowPrice=15.0, trendPrice=37.22, germanProLow=0.0, suggestedPrice=0.0, reverseHoloSell=0.0, reverseHoloLow=0.0, reverseHoloTrend=72.02, lowPriceExPlus=44.88, avg1=60.0, avg7=45.21, avg30=63.86, reverseHoloAvg1=30.0, reverseHoloAvg7=64.85, reverseHoloAvg30=41.17)), convertedRetreatCost=None, evolvesFrom=None, flavorText=\"This Pokémon's body is covered by fine hairs that can be seen only under a microscope.\", hp='30', id='si1-1', images=CardImage(small='https://images.pokemontcg.io/si1/1.png', large='https://images.pokemontcg.io/si1/1_hires.png'), legalities=Legality(unlimited='Legal', expanded=None, standard=None), regulationMark=None, name='Mew', nationalPokedexNumbers=[151], number='1', rarity=None, resistances=None, retreatCost=None, rules=None, set=Set(id='si1', images=SetImage(symbol='https://images.pokemontcg.io/si1/symbol.png', logo='https://images.pokemontcg.io/si1/logo.png'), legalities=Legality(unlimited='Legal', expanded=None, standard=None), name='Southern Islands', printedTotal=18, ptcgoCode=None, releaseDate='2001/07/31', series='Other', total=18, updatedAt='2019/01/28 16:44:00'), subtypes=['Basic'], supertype='Pokémon', tcgplayer=TCGPlayer(url='https://prices.pokemontcg.io/tcgplayer/si1-1', updatedAt='2023/05/23', prices=TCGPrices(normal=None, holofoil=None, reverseHolofoil=TCGPrice(low=74.64, mid=80.99, high=120.0, market=108.08, directLow=74.68), firstEditionHolofoil=None, firstEditionNormal=None)), types=['Psychic'], weaknesses=[Weakness(type='Psychic', value='×2')]), Card(abilities=None, artist='Yumi', ancientTrait=None, attacks=[Attack(name='Controlled Burn', cost=['Fire'], convertedEnergyCost=1, damage='', text=\"Discard the top card of your opponent's deck.\"), Attack(name='Flamethrower', cost=['Fire', 'Fire', 'Colorless'], convertedEnergyCost=3, damage='80', text='Discard an Energy from this Pokémon.')], cardmarket=Cardmarket(url='https://prices.pokemontcg.io/cardmarket/mcd19-3', updatedAt='2023/05/23', prices=CardmarketPrices(averageSellPrice=1.99, lowPrice=0.04, trendPrice=1.7, germanProLow=0.0, suggestedPrice=0.0, reverseHoloSell=0.0, reverseHoloLow=0.0, reverseHoloTrend=2.63, lowPriceExPlus=0.69, avg1=2.2, avg7=1.89, avg30=1.59, reverseHoloAvg1=2.5, reverseHoloAvg7=2.86, reverseHoloAvg30=1.69)), convertedRetreatCost=2, evolvesFrom=None, flavorText=\"When angered, it spouts brilliant fire from all over its body. It doesn't calm down until its opponent has burned to ash.\", hp='80', id='mcd19-3', images=CardImage(small='https://images.pokemontcg.io/mcd19/3.png', large='https://images.pokemontcg.io/mcd19/3_hires.png'), legalities=Legality(unlimited='Legal', expanded='Legal', standard=None), regulationMark=None, name='Magmar', nationalPokedexNumbers=[126], number='3', rarity=None, resistances=None, retreatCost=['Colorless', 'Colorless'], rules=None, set=Set(id='mcd19', images=SetImage(symbol='https://images.pokemontcg.io/mcd19/symbol.png', logo='https://images.pokemontcg.io/mcd19/logo.png'), legalities=Legality(unlimited='Legal', expanded='Legal', standard=None), name=\"McDonald's Collection 2019\", printedTotal=12, ptcgoCode=None, releaseDate='2019/10/15', series='Other', total=12, updatedAt='2022/10/10 15:12:00'), subtypes=['Basic'], supertype='Pokémon', tcgplayer=TCGPlayer(url='https://prices.pokemontcg.io/tcgplayer/mcd19-3', updatedAt='2023/05/23', prices=TCGPrices(normal=None, holofoil=TCGPrice(low=3.0, mid=4.05, high=8.99, market=3.85, directLow=None), reverseHolofoil=None, firstEditionHolofoil=None, firstEditionNormal=None)), types=['Fire'], weaknesses=[Weakness(type='Water', value='×2')]), Card(abilities=None, artist='Pokemon Rumble', ancientTrait=None, attacks=[Attack(name='Flame Tail', cost=['Fire', 'Colorless', 'Colorless'], convertedEnergyCost=3, damage='60', text='')], cardmarket=Cardmarket(url='https://prices.pokemontcg.io/cardmarket/ru1-3', updatedAt='2023/05/23', prices=CardmarketPrices(averageSellPrice=15.52, lowPrice=12.0, trendPrice=13.97, germanProLow=0.0, suggestedPrice=0.0, reverseHoloSell=0.0, reverseHoloLow=0.0, reverseHoloTrend=17.21, lowPriceExPlus=14.0, avg1=16.0, avg7=14.58, avg30=12.69, reverseHoloAvg1=19.0, reverseHoloAvg7=13.66, reverseHoloAvg30=13.66)), convertedRetreatCost=1, evolvesFrom='Vulpix', flavorText=None, hp='90', id='ru1-3', images=CardImage(small='https://images.pokemontcg.io/ru1/3.png', large='https://images.pokemontcg.io/ru1/3_hires.png'), legalities=Legality(unlimited='Legal', expanded=None, standard=None), regulationMark=None, name='Ninetales', nationalPokedexNumbers=[38], number='3', rarity=None, resistances=None, retreatCost=['Colorless'], rules=None, set=Set(id='ru1', images=SetImage(symbol='https://images.pokemontcg.io/ru1/symbol.png', logo='https://images.pokemontcg.io/ru1/logo.png'), legalities=Legality(unlimited='Legal', expanded=None, standard=None), name='Pokémon Rumble', printedTotal=16, ptcgoCode=None, releaseDate='2009/12/02', series='Other', total=16, updatedAt='2019/01/28 16:44:00'), subtypes=['Stage 1'], supertype='Pokémon', tcgplayer=TCGPlayer(url='https://prices.pokemontcg.io/tcgplayer/ru1-3', updatedAt='2023/05/23', prices=TCGPrices(normal=TCGPrice(low=30.92, mid=38.05, high=49.99, market=28.81, directLow=None), holofoil=None, reverseHolofoil=None, firstEditionHolofoil=None, firstEditionNormal=None)), types=['Fire'], weaknesses=[Weakness(type='Water', value='×2')])]\n"
     ]
    }
   ],
   "source": [
    "print(cards[:5])"
   ]
  },
  {
   "cell_type": "code",
   "execution_count": 19,
   "metadata": {},
   "outputs": [
    {
     "name": "stdout",
     "output_type": "stream",
     "text": [
      "CardImage(small='https://images.pokemontcg.io/mcd19/1.png', large='https://images.pokemontcg.io/mcd19/1_hires.png')\n",
      "Caterpie\n",
      "McDonald's Collection 2019\n",
      "\n",
      "\n",
      "CardImage(small='https://images.pokemontcg.io/mcd19/2.png', large='https://images.pokemontcg.io/mcd19/2_hires.png')\n",
      "Alolan Exeggutor\n",
      "McDonald's Collection 2019\n",
      "\n",
      "\n",
      "CardImage(small='https://images.pokemontcg.io/si1/1.png', large='https://images.pokemontcg.io/si1/1_hires.png')\n",
      "Mew\n",
      "Southern Islands\n",
      "\n",
      "\n",
      "CardImage(small='https://images.pokemontcg.io/mcd19/3.png', large='https://images.pokemontcg.io/mcd19/3_hires.png')\n",
      "Magmar\n",
      "McDonald's Collection 2019\n",
      "\n",
      "\n",
      "CardImage(small='https://images.pokemontcg.io/ru1/3.png', large='https://images.pokemontcg.io/ru1/3_hires.png')\n",
      "Ninetales\n",
      "Pokémon Rumble\n",
      "\n",
      "\n",
      "CardImage(small='https://images.pokemontcg.io/ru1/1.png', large='https://images.pokemontcg.io/ru1/1_hires.png')\n",
      "Venusaur\n",
      "Pokémon Rumble\n",
      "\n",
      "\n",
      "CardImage(small='https://images.pokemontcg.io/ru1/2.png', large='https://images.pokemontcg.io/ru1/2_hires.png')\n",
      "Cherrim\n",
      "Pokémon Rumble\n",
      "\n",
      "\n",
      "CardImage(small='https://images.pokemontcg.io/si1/2.png', large='https://images.pokemontcg.io/si1/2_hires.png')\n",
      "Pidgeot\n",
      "Southern Islands\n",
      "\n",
      "\n",
      "CardImage(small='https://images.pokemontcg.io/base6/1.png', large='https://images.pokemontcg.io/base6/1_hires.png')\n",
      "Alakazam\n",
      "Legendary Collection\n",
      "\n",
      "\n",
      "CardImage(small='https://images.pokemontcg.io/mcd19/4.png', large='https://images.pokemontcg.io/mcd19/4_hires.png')\n",
      "Alolan Sandshrew\n",
      "McDonald's Collection 2019\n",
      "\n",
      "\n",
      "CardImage(small='https://images.pokemontcg.io/base6/3.png', large='https://images.pokemontcg.io/base6/3_hires.png')\n",
      "Charizard\n",
      "Legendary Collection\n",
      "\n",
      "\n"
     ]
    }
   ],
   "source": [
    "for i, card in enumerate(cards):\n",
    "    if i > 10:\n",
    "        continue\n",
    "    print(card.images)\n",
    "    print(card.name)\n",
    "    print(card.set.name)\n",
    "    print()\n",
    "    print(\"\")"
   ]
  },
  {
   "cell_type": "code",
   "execution_count": null,
   "metadata": {},
   "outputs": [],
   "source": []
  }
 ],
 "metadata": {
  "kernelspec": {
   "display_name": "Python 3 (ipykernel)",
   "language": "python",
   "name": "python3"
  },
  "language_info": {
   "codemirror_mode": {
    "name": "ipython",
    "version": 3
   },
   "file_extension": ".py",
   "mimetype": "text/x-python",
   "name": "python",
   "nbconvert_exporter": "python",
   "pygments_lexer": "ipython3",
   "version": "3.11.2"
  }
 },
 "nbformat": 4,
 "nbformat_minor": 2
}
