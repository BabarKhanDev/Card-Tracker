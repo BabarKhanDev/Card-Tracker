{
 "cells": [
  {
   "cell_type": "code",
   "execution_count": 2,
   "metadata": {},
   "outputs": [],
   "source": [
    "from pokemontcgsdk import Card\n",
    "from pokemontcgsdk import Set\n",
    "from pokemontcgsdk import Type\n",
    "from pokemontcgsdk import Supertype\n",
    "from pokemontcgsdk import Subtype\n",
    "from pokemontcgsdk import Rarity\n",
    "\n",
    "from pokemontcgsdk import RestClient\n",
    "\n",
    "import pickle\n",
    "from tqdm import tqdm\n",
    "import os\n",
    "\n",
    "with open(\"options.txt\", \"r\") as file:\n",
    "    option_lines = file.readlines()\n",
    "    \n",
    "api_key = option_lines[0].split(\" = \")[1]\n",
    "\n",
    "RestClient.configure(api_key)"
   ]
  },
  {
   "attachments": {},
   "cell_type": "markdown",
   "metadata": {},
   "source": [
    "#### Set Caching"
   ]
  },
  {
   "cell_type": "code",
   "execution_count": 25,
   "metadata": {},
   "outputs": [
    {
     "name": "stdout",
     "output_type": "stream",
     "text": [
      "[{'image_URL': 'https://images.pokemontcg.io/sv1/logo.png', 'name': 'Scarlet & Violet', 'series': 'Scarlet & Violet', 'release_date': '2023/03/31', 'id': 'sv1'}, {'image_URL': 'https://images.pokemontcg.io/swsh12pt5gg/logo.png', 'name': 'Crown Zenith Galarian Gallery', 'series': 'Sword & Shield', 'release_date': '2023/01/20', 'id': 'swsh12pt5gg'}, {'image_URL': 'https://images.pokemontcg.io/swsh12pt5/logo.png', 'name': 'Crown Zenith', 'series': 'Sword & Shield', 'release_date': '2023/01/20', 'id': 'swsh12pt5'}, {'image_URL': 'https://images.pokemontcg.io/svp/logo.png', 'name': 'Scarlet & Violet Black Star Promos', 'series': 'Scarlet & Violet', 'release_date': '2023/01/01', 'id': 'svp'}, {'image_URL': 'https://images.pokemontcg.io/swsh12/logo.png', 'name': 'Silver Tempest', 'series': 'Sword & Shield', 'release_date': '2022/11/11', 'id': 'swsh12'}, {'image_URL': 'https://images.pokemontcg.io/swsh12tg/logo.png', 'name': 'Silver Tempest Trainer Gallery', 'series': 'Sword & Shield', 'release_date': '2022/11/11', 'id': 'swsh12tg'}, {'image_URL': 'https://images.pokemontcg.io/swsh11tg/logo.png', 'name': 'Lost Origin Trainer Gallery', 'series': 'Sword & Shield', 'release_date': '2022/09/09', 'id': 'swsh11tg'}, {'image_URL': 'https://images.pokemontcg.io/swsh11/logo.png', 'name': 'Lost Origin', 'series': 'Sword & Shield', 'release_date': '2022/09/09', 'id': 'swsh11'}, {'image_URL': 'https://images.pokemontcg.io/mcd22/logo.png', 'name': \"McDonald's Collection 2022\", 'series': 'Other', 'release_date': '2022/08/03', 'id': 'mcd22'}, {'image_URL': 'https://images.pokemontcg.io/pgo/logo.png', 'name': 'Pokémon GO', 'series': 'Sword & Shield', 'release_date': '2022/07/01', 'id': 'pgo'}, {'image_URL': 'https://images.pokemontcg.io/swsh10/logo.png', 'name': 'Astral Radiance', 'series': 'Sword & Shield', 'release_date': '2022/05/27', 'id': 'swsh10'}, {'image_URL': 'https://images.pokemontcg.io/swsh10tg/logo.png', 'name': 'Astral Radiance Trainer Gallery', 'series': 'Sword & Shield', 'release_date': '2022/05/27', 'id': 'swsh10tg'}, {'image_URL': 'https://images.pokemontcg.io/swsh9/logo.png', 'name': 'Brilliant Stars', 'series': 'Sword & Shield', 'release_date': '2022/02/25', 'id': 'swsh9'}, {'image_URL': 'https://images.pokemontcg.io/swsh9tg/logo.png', 'name': 'Brilliant Stars Trainer Gallery', 'series': 'Sword & Shield', 'release_date': '2022/02/25', 'id': 'swsh9tg'}, {'image_URL': 'https://images.pokemontcg.io/swsh8/logo.png', 'name': 'Fusion Strike', 'series': 'Sword & Shield', 'release_date': '2021/11/12', 'id': 'swsh8'}, {'image_URL': 'https://images.pokemontcg.io/cel25c/logo.png', 'name': 'Celebrations: Classic Collection', 'series': 'Sword & Shield', 'release_date': '2021/10/08', 'id': 'cel25c'}, {'image_URL': 'https://images.pokemontcg.io/cel25/logo.png', 'name': 'Celebrations', 'series': 'Sword & Shield', 'release_date': '2021/10/08', 'id': 'cel25'}, {'image_URL': 'https://images.pokemontcg.io/swsh7/logo.png', 'name': 'Evolving Skies', 'series': 'Sword & Shield', 'release_date': '2021/08/27', 'id': 'swsh7'}, {'image_URL': 'https://images.pokemontcg.io/swsh6/logo.png', 'name': 'Chilling Reign', 'series': 'Sword & Shield', 'release_date': '2021/06/18', 'id': 'swsh6'}, {'image_URL': 'https://images.pokemontcg.io/swsh5/logo.png', 'name': 'Battle Styles', 'series': 'Sword & Shield', 'release_date': '2021/03/19', 'id': 'swsh5'}, {'image_URL': 'https://images.pokemontcg.io/swsh45sv/logo.png', 'name': 'Shiny Vault', 'series': 'Sword & Shield', 'release_date': '2021/02/19', 'id': 'swsh45sv'}, {'image_URL': 'https://images.pokemontcg.io/swsh45/logo.png', 'name': 'Shining Fates', 'series': 'Sword & Shield', 'release_date': '2021/02/19', 'id': 'swsh45'}, {'image_URL': 'https://images.pokemontcg.io/mcd21/logo.png', 'name': \"McDonald's Collection 2021\", 'series': 'Other', 'release_date': '2021/02/09', 'id': 'mcd21'}, {'image_URL': 'https://images.pokemontcg.io/swsh4/logo.png', 'name': 'Vivid Voltage', 'series': 'Sword & Shield', 'release_date': '2020/11/13', 'id': 'swsh4'}, {'image_URL': 'https://images.pokemontcg.io/swsh35/logo.png', 'name': \"Champion's Path\", 'series': 'Sword & Shield', 'release_date': '2020/09/25', 'id': 'swsh35'}, {'image_URL': 'https://images.pokemontcg.io/fut20/logo.png', 'name': 'Pokémon Futsal Collection', 'series': 'Other', 'release_date': '2020/09/11', 'id': 'fut20'}, {'image_URL': 'https://images.pokemontcg.io/swsh3/logo.png', 'name': 'Darkness Ablaze', 'series': 'Sword & Shield', 'release_date': '2020/08/14', 'id': 'swsh3'}, {'image_URL': 'https://images.pokemontcg.io/swsh2/logo.png', 'name': 'Rebel Clash', 'series': 'Sword & Shield', 'release_date': '2020/05/01', 'id': 'swsh2'}, {'image_URL': 'https://images.pokemontcg.io/swsh1/logo.png', 'name': 'Sword & Shield', 'series': 'Sword & Shield', 'release_date': '2020/02/07', 'id': 'swsh1'}, {'image_URL': 'https://images.pokemontcg.io/swshp/logo.png', 'name': 'SWSH Black Star Promos', 'series': 'Sword & Shield', 'release_date': '2019/11/15', 'id': 'swshp'}, {'image_URL': 'https://images.pokemontcg.io/sm12/logo.png', 'name': 'Cosmic Eclipse', 'series': 'Sun & Moon', 'release_date': '2019/11/01', 'id': 'sm12'}, {'image_URL': 'https://images.pokemontcg.io/mcd19/logo.png', 'name': \"McDonald's Collection 2019\", 'series': 'Other', 'release_date': '2019/10/15', 'id': 'mcd19'}, {'image_URL': 'https://images.pokemontcg.io/sm115/logo.png', 'name': 'Hidden Fates', 'series': 'Sun & Moon', 'release_date': '2019/08/23', 'id': 'sm115'}, {'image_URL': 'https://images.pokemontcg.io/sma/logo.png', 'name': 'Shiny Vault', 'series': 'Sun & Moon', 'release_date': '2019/08/23', 'id': 'sma'}, {'image_URL': 'https://images.pokemontcg.io/sm11/logo.png', 'name': 'Unified Minds', 'series': 'Sun & Moon', 'release_date': '2019/08/02', 'id': 'sm11'}, {'image_URL': 'https://images.pokemontcg.io/sm10/logo.png', 'name': 'Unbroken Bonds', 'series': 'Sun & Moon', 'release_date': '2019/05/03', 'id': 'sm10'}, {'image_URL': 'https://images.pokemontcg.io/det1/logo.png', 'name': 'Detective Pikachu', 'series': 'Sun & Moon', 'release_date': '2019/04/05', 'id': 'det1'}, {'image_URL': 'https://images.pokemontcg.io/sm9/logo.png', 'name': 'Team Up', 'series': 'Sun & Moon', 'release_date': '2019/02/01', 'id': 'sm9'}, {'image_URL': 'https://images.pokemontcg.io/sm8/logo.png', 'name': 'Lost Thunder', 'series': 'Sun & Moon', 'release_date': '2018/11/02', 'id': 'sm8'}, {'image_URL': 'https://images.pokemontcg.io/mcd18/logo.png', 'name': \"McDonald's Collection 2018\", 'series': 'Other', 'release_date': '2018/10/16', 'id': 'mcd18'}, {'image_URL': 'https://images.pokemontcg.io/sm75/logo.png', 'name': 'Dragon Majesty', 'series': 'Sun & Moon', 'release_date': '2018/09/07', 'id': 'sm75'}, {'image_URL': 'https://images.pokemontcg.io/sm7/logo.png', 'name': 'Celestial Storm', 'series': 'Sun & Moon', 'release_date': '2018/08/03', 'id': 'sm7'}, {'image_URL': 'https://images.pokemontcg.io/sm6/logo.png', 'name': 'Forbidden Light', 'series': 'Sun & Moon', 'release_date': '2018/05/04', 'id': 'sm6'}, {'image_URL': 'https://images.pokemontcg.io/sm5/logo.png', 'name': 'Ultra Prism', 'series': 'Sun & Moon', 'release_date': '2018/02/02', 'id': 'sm5'}, {'image_URL': 'https://images.pokemontcg.io/mcd17/logo.png', 'name': \"McDonald's Collection 2017\", 'series': 'Other', 'release_date': '2017/11/07', 'id': 'mcd17'}, {'image_URL': 'https://images.pokemontcg.io/sm4/logo.png', 'name': 'Crimson Invasion', 'series': 'Sun & Moon', 'release_date': '2017/11/03', 'id': 'sm4'}, {'image_URL': 'https://images.pokemontcg.io/sm35/logo.png', 'name': 'Shining Legends', 'series': 'Sun & Moon', 'release_date': '2017/10/06', 'id': 'sm35'}, {'image_URL': 'https://images.pokemontcg.io/sm3/logo.png', 'name': 'Burning Shadows', 'series': 'Sun & Moon', 'release_date': '2017/08/05', 'id': 'sm3'}, {'image_URL': 'https://images.pokemontcg.io/sm2/logo.png', 'name': 'Guardians Rising', 'series': 'Sun & Moon', 'release_date': '2017/05/05', 'id': 'sm2'}, {'image_URL': 'https://images.pokemontcg.io/smp/logo.png', 'name': 'SM Black Star Promos', 'series': 'Sun & Moon', 'release_date': '2017/02/03', 'id': 'smp'}, {'image_URL': 'https://images.pokemontcg.io/sm1/logo.png', 'name': 'Sun & Moon', 'series': 'Sun & Moon', 'release_date': '2017/02/03', 'id': 'sm1'}, {'image_URL': 'https://images.pokemontcg.io/xy12/logo.png', 'name': 'Evolutions', 'series': 'XY', 'release_date': '2016/11/02', 'id': 'xy12'}, {'image_URL': 'https://images.pokemontcg.io/mcd16/logo.png', 'name': \"McDonald's Collection 2016\", 'series': 'Other', 'release_date': '2016/08/19', 'id': 'mcd16'}, {'image_URL': 'https://images.pokemontcg.io/xy11/logo.png', 'name': 'Steam Siege', 'series': 'XY', 'release_date': '2016/08/03', 'id': 'xy11'}, {'image_URL': 'https://images.pokemontcg.io/xy10/logo.png', 'name': 'Fates Collide', 'series': 'XY', 'release_date': '2016/05/02', 'id': 'xy10'}, {'image_URL': 'https://images.pokemontcg.io/g1/logo.png', 'name': 'Generations', 'series': 'XY', 'release_date': '2016/02/22', 'id': 'g1'}, {'image_URL': 'https://images.pokemontcg.io/xy9/logo.png', 'name': 'BREAKpoint', 'series': 'XY', 'release_date': '2016/02/03', 'id': 'xy9'}, {'image_URL': 'https://images.pokemontcg.io/mcd15/logo.png', 'name': \"McDonald's Collection 2015\", 'series': 'Other', 'release_date': '2015/11/27', 'id': 'mcd15'}, {'image_URL': 'https://images.pokemontcg.io/xy8/logo.png', 'name': 'BREAKthrough', 'series': 'XY', 'release_date': '2015/11/04', 'id': 'xy8'}, {'image_URL': 'https://images.pokemontcg.io/xy7/logo.png', 'name': 'Ancient Origins', 'series': 'XY', 'release_date': '2015/08/12', 'id': 'xy7'}, {'image_URL': 'https://images.pokemontcg.io/xy6/logo.png', 'name': 'Roaring Skies', 'series': 'XY', 'release_date': '2015/05/06', 'id': 'xy6'}, {'image_URL': 'https://images.pokemontcg.io/dc1/logo.png', 'name': 'Double Crisis', 'series': 'XY', 'release_date': '2015/03/25', 'id': 'dc1'}, {'image_URL': 'https://images.pokemontcg.io/xy5/logo.png', 'name': 'Primal Clash', 'series': 'XY', 'release_date': '2015/02/04', 'id': 'xy5'}, {'image_URL': 'https://images.pokemontcg.io/xy4/logo.png', 'name': 'Phantom Forces', 'series': 'XY', 'release_date': '2014/11/05', 'id': 'xy4'}, {'image_URL': 'https://images.pokemontcg.io/xy3/logo.png', 'name': 'Furious Fists', 'series': 'XY', 'release_date': '2014/08/13', 'id': 'xy3'}, {'image_URL': 'https://images.pokemontcg.io/mcd14/logo.png', 'name': \"McDonald's Collection 2014\", 'series': 'Other', 'release_date': '2014/05/23', 'id': 'mcd14'}, {'image_URL': 'https://images.pokemontcg.io/xy2/logo.png', 'name': 'Flashfire', 'series': 'XY', 'release_date': '2014/05/07', 'id': 'xy2'}, {'image_URL': 'https://images.pokemontcg.io/xy1/logo.png', 'name': 'XY', 'series': 'XY', 'release_date': '2014/02/05', 'id': 'xy1'}, {'image_URL': 'https://images.pokemontcg.io/xy0/logo.png', 'name': 'Kalos Starter Set', 'series': 'XY', 'release_date': '2013/11/08', 'id': 'xy0'}, {'image_URL': 'https://images.pokemontcg.io/bw11/logo.png', 'name': 'Legendary Treasures', 'series': 'Black & White', 'release_date': '2013/11/06', 'id': 'bw11'}, {'image_URL': 'https://images.pokemontcg.io/xyp/logo.png', 'name': 'XY Black Star Promos', 'series': 'XY', 'release_date': '2013/10/12', 'id': 'xyp'}, {'image_URL': 'https://images.pokemontcg.io/bw10/logo.png', 'name': 'Plasma Blast', 'series': 'Black & White', 'release_date': '2013/08/14', 'id': 'bw10'}, {'image_URL': 'https://images.pokemontcg.io/bw9/logo.png', 'name': 'Plasma Freeze', 'series': 'Black & White', 'release_date': '2013/05/08', 'id': 'bw9'}, {'image_URL': 'https://images.pokemontcg.io/bw8/logo.png', 'name': 'Plasma Storm', 'series': 'Black & White', 'release_date': '2013/02/06', 'id': 'bw8'}, {'image_URL': 'https://images.pokemontcg.io/bw7/logo.png', 'name': 'Boundaries Crossed', 'series': 'Black & White', 'release_date': '2012/11/07', 'id': 'bw7'}, {'image_URL': 'https://images.pokemontcg.io/dv1/logo.png', 'name': 'Dragon Vault', 'series': 'Black & White', 'release_date': '2012/10/05', 'id': 'dv1'}, {'image_URL': 'https://images.pokemontcg.io/bw6/logo.png', 'name': 'Dragons Exalted', 'series': 'Black & White', 'release_date': '2012/08/15', 'id': 'bw6'}, {'image_URL': 'https://images.pokemontcg.io/mcd12/logo.png', 'name': \"McDonald's Collection 2012\", 'series': 'Other', 'release_date': '2012/06/15', 'id': 'mcd12'}, {'image_URL': 'https://images.pokemontcg.io/bw5/logo.png', 'name': 'Dark Explorers', 'series': 'Black & White', 'release_date': '2012/05/09', 'id': 'bw5'}, {'image_URL': 'https://images.pokemontcg.io/bw4/logo.png', 'name': 'Next Destinies', 'series': 'Black & White', 'release_date': '2012/02/08', 'id': 'bw4'}, {'image_URL': 'https://images.pokemontcg.io/bw3/logo.png', 'name': 'Noble Victories', 'series': 'Black & White', 'release_date': '2011/11/16', 'id': 'bw3'}, {'image_URL': 'https://images.pokemontcg.io/bw2/logo.png', 'name': 'Emerging Powers', 'series': 'Black & White', 'release_date': '2011/08/31', 'id': 'bw2'}, {'image_URL': 'https://images.pokemontcg.io/mcd11/logo.png', 'name': \"McDonald's Collection 2011\", 'series': 'Other', 'release_date': '2011/06/17', 'id': 'mcd11'}, {'image_URL': 'https://images.pokemontcg.io/bw1/logo.png', 'name': 'Black & White', 'series': 'Black & White', 'release_date': '2011/04/25', 'id': 'bw1'}, {'image_URL': 'https://images.pokemontcg.io/bwp/logo.png', 'name': 'BW Black Star Promos', 'series': 'Black & White', 'release_date': '2011/03/01', 'id': 'bwp'}, {'image_URL': 'https://images.pokemontcg.io/col1/logo.png', 'name': 'Call of Legends', 'series': 'HeartGold & SoulSilver', 'release_date': '2011/02/09', 'id': 'col1'}, {'image_URL': 'https://images.pokemontcg.io/hgss4/logo.png', 'name': 'HS—Triumphant', 'series': 'HeartGold & SoulSilver', 'release_date': '2010/11/03', 'id': 'hgss4'}, {'image_URL': 'https://images.pokemontcg.io/hgss3/logo.png', 'name': 'HS—Undaunted', 'series': 'HeartGold & SoulSilver', 'release_date': '2010/08/18', 'id': 'hgss3'}, {'image_URL': 'https://images.pokemontcg.io/hgss2/logo.png', 'name': 'HS—Unleashed', 'series': 'HeartGold & SoulSilver', 'release_date': '2010/05/12', 'id': 'hgss2'}, {'image_URL': 'https://images.pokemontcg.io/hgss1/logo.png', 'name': 'HeartGold & SoulSilver', 'series': 'HeartGold & SoulSilver', 'release_date': '2010/02/10', 'id': 'hgss1'}, {'image_URL': 'https://images.pokemontcg.io/hsp/logo.png', 'name': 'HGSS Black Star Promos', 'series': 'HeartGold & SoulSilver', 'release_date': '2010/02/10', 'id': 'hsp'}, {'image_URL': 'https://images.pokemontcg.io/ru1/logo.png', 'name': 'Pokémon Rumble', 'series': 'Other', 'release_date': '2009/12/02', 'id': 'ru1'}, {'image_URL': 'https://images.pokemontcg.io/pl4/logo.png', 'name': 'Arceus', 'series': 'Platinum', 'release_date': '2009/11/04', 'id': 'pl4'}, {'image_URL': 'https://images.pokemontcg.io/pl3/logo.png', 'name': 'Supreme Victors', 'series': 'Platinum', 'release_date': '2009/08/19', 'id': 'pl3'}, {'image_URL': 'https://images.pokemontcg.io/pl2/logo.png', 'name': 'Rising Rivals', 'series': 'Platinum', 'release_date': '2009/05/16', 'id': 'pl2'}, {'image_URL': 'https://images.pokemontcg.io/pop9/logo.png', 'name': 'POP Series 9', 'series': 'POP', 'release_date': '2009/03/01', 'id': 'pop9'}, {'image_URL': 'https://images.pokemontcg.io/pl1/logo.png', 'name': 'Platinum', 'series': 'Platinum', 'release_date': '2009/02/11', 'id': 'pl1'}, {'image_URL': 'https://images.pokemontcg.io/dp7/logo.png', 'name': 'Stormfront', 'series': 'Diamond & Pearl', 'release_date': '2008/11/01', 'id': 'dp7'}, {'image_URL': 'https://images.pokemontcg.io/pop8/logo.png', 'name': 'POP Series 8', 'series': 'POP', 'release_date': '2008/09/01', 'id': 'pop8'}, {'image_URL': 'https://images.pokemontcg.io/dp6/logo.png', 'name': 'Legends Awakened', 'series': 'Diamond & Pearl', 'release_date': '2008/08/01', 'id': 'dp6'}, {'image_URL': 'https://images.pokemontcg.io/dp5/logo.png', 'name': 'Majestic Dawn', 'series': 'Diamond & Pearl', 'release_date': '2008/05/01', 'id': 'dp5'}, {'image_URL': 'https://images.pokemontcg.io/pop7/logo.png', 'name': 'POP Series 7', 'series': 'POP', 'release_date': '2008/03/01', 'id': 'pop7'}, {'image_URL': 'https://images.pokemontcg.io/dp4/logo.png', 'name': 'Great Encounters', 'series': 'Diamond & Pearl', 'release_date': '2008/02/01', 'id': 'dp4'}, {'image_URL': 'https://images.pokemontcg.io/dp3/logo.png', 'name': 'Secret Wonders', 'series': 'Diamond & Pearl', 'release_date': '2007/11/01', 'id': 'dp3'}, {'image_URL': 'https://images.pokemontcg.io/pop6/logo.png', 'name': 'POP Series 6', 'series': 'POP', 'release_date': '2007/09/01', 'id': 'pop6'}, {'image_URL': 'https://images.pokemontcg.io/dp2/logo.png', 'name': 'Mysterious Treasures', 'series': 'Diamond & Pearl', 'release_date': '2007/08/01', 'id': 'dp2'}, {'image_URL': 'https://images.pokemontcg.io/dpp/logo.png', 'name': 'DP Black Star Promos', 'series': 'Diamond & Pearl', 'release_date': '2007/05/01', 'id': 'dpp'}, {'image_URL': 'https://images.pokemontcg.io/dp1/logo.png', 'name': 'Diamond & Pearl', 'series': 'Diamond & Pearl', 'release_date': '2007/05/01', 'id': 'dp1'}, {'image_URL': 'https://images.pokemontcg.io/pop5/logo.png', 'name': 'POP Series 5', 'series': 'POP', 'release_date': '2007/03/01', 'id': 'pop5'}, {'image_URL': 'https://images.pokemontcg.io/ex16/logo.png', 'name': 'Power Keepers', 'series': 'EX', 'release_date': '2007/02/02', 'id': 'ex16'}, {'image_URL': 'https://images.pokemontcg.io/ex15/logo.png', 'name': 'Dragon Frontiers', 'series': 'EX', 'release_date': '2006/11/01', 'id': 'ex15'}, {'image_URL': 'https://images.pokemontcg.io/pop4/logo.png', 'name': 'POP Series 4', 'series': 'POP', 'release_date': '2006/08/01', 'id': 'pop4'}, {'image_URL': 'https://images.pokemontcg.io/ex14/logo.png', 'name': 'Crystal Guardians', 'series': 'EX', 'release_date': '2006/08/01', 'id': 'ex14'}, {'image_URL': 'https://images.pokemontcg.io/ex13/logo.png', 'name': 'Holon Phantoms', 'series': 'EX', 'release_date': '2006/05/01', 'id': 'ex13'}, {'image_URL': 'https://images.pokemontcg.io/pop3/logo.png', 'name': 'POP Series 3', 'series': 'POP', 'release_date': '2006/04/01', 'id': 'pop3'}, {'image_URL': 'https://images.pokemontcg.io/tk2a/logo.png', 'name': 'EX Trainer Kit 2 Plusle', 'series': 'EX', 'release_date': '2006/03/01', 'id': 'tk2a'}, {'image_URL': 'https://images.pokemontcg.io/tk2b/logo.png', 'name': 'EX Trainer Kit 2 Minun', 'series': 'EX', 'release_date': '2006/03/01', 'id': 'tk2b'}, {'image_URL': 'https://images.pokemontcg.io/ex12/logo.png', 'name': 'Legend Maker', 'series': 'EX', 'release_date': '2006/02/01', 'id': 'ex12'}, {'image_URL': 'https://images.pokemontcg.io/ex11/logo.png', 'name': 'Delta Species', 'series': 'EX', 'release_date': '2005/10/31', 'id': 'ex11'}, {'image_URL': 'https://images.pokemontcg.io/pop2/logo.png', 'name': 'POP Series 2', 'series': 'POP', 'release_date': '2005/08/01', 'id': 'pop2'}, {'image_URL': 'https://images.pokemontcg.io/ex10/logo.png', 'name': 'Unseen Forces', 'series': 'EX', 'release_date': '2005/08/01', 'id': 'ex10'}, {'image_URL': 'https://images.pokemontcg.io/ex9/logo.png', 'name': 'Emerald', 'series': 'EX', 'release_date': '2005/05/01', 'id': 'ex9'}, {'image_URL': 'https://images.pokemontcg.io/ex8/logo.png', 'name': 'Deoxys', 'series': 'EX', 'release_date': '2005/02/01', 'id': 'ex8'}, {'image_URL': 'https://images.pokemontcg.io/ex7/logo.png', 'name': 'Team Rocket Returns', 'series': 'EX', 'release_date': '2004/11/01', 'id': 'ex7'}, {'image_URL': 'https://images.pokemontcg.io/pop1/logo.png', 'name': 'POP Series 1', 'series': 'POP', 'release_date': '2004/09/01', 'id': 'pop1'}, {'image_URL': 'https://images.pokemontcg.io/ex6/logo.png', 'name': 'FireRed & LeafGreen', 'series': 'EX', 'release_date': '2004/09/01', 'id': 'ex6'}, {'image_URL': 'https://images.pokemontcg.io/ex5/logo.png', 'name': 'Hidden Legends', 'series': 'EX', 'release_date': '2004/06/01', 'id': 'ex5'}, {'image_URL': 'https://images.pokemontcg.io/tk1a/logo.png', 'name': 'EX Trainer Kit Latias', 'series': 'EX', 'release_date': '2004/06/01', 'id': 'tk1a'}, {'image_URL': 'https://images.pokemontcg.io/tk1b/logo.png', 'name': 'EX Trainer Kit Latios', 'series': 'EX', 'release_date': '2004/06/01', 'id': 'tk1b'}, {'image_URL': 'https://images.pokemontcg.io/ex4/logo.png', 'name': 'Team Magma vs Team Aqua', 'series': 'EX', 'release_date': '2004/03/01', 'id': 'ex4'}, {'image_URL': 'https://images.pokemontcg.io/np/logo.png', 'name': 'Nintendo Black Star Promos', 'series': 'NP', 'release_date': '2003/10/01', 'id': 'np'}, {'image_URL': 'https://images.pokemontcg.io/ex2/logo.png', 'name': 'Sandstorm', 'series': 'EX', 'release_date': '2003/09/18', 'id': 'ex2'}, {'image_URL': 'https://images.pokemontcg.io/ex3/logo.png', 'name': 'Dragon', 'series': 'EX', 'release_date': '2003/09/18', 'id': 'ex3'}, {'image_URL': 'https://images.pokemontcg.io/ex1/logo.png', 'name': 'Ruby & Sapphire', 'series': 'EX', 'release_date': '2003/07/01', 'id': 'ex1'}, {'image_URL': 'https://images.pokemontcg.io/ecard3/logo.png', 'name': 'Skyridge', 'series': 'E-Card', 'release_date': '2003/05/12', 'id': 'ecard3'}, {'image_URL': 'https://images.pokemontcg.io/ecard2/logo.png', 'name': 'Aquapolis', 'series': 'E-Card', 'release_date': '2003/01/15', 'id': 'ecard2'}, {'image_URL': 'https://images.pokemontcg.io/bp/logo.png', 'name': 'Best of Game', 'series': 'Other', 'release_date': '2002/12/01', 'id': 'bp'}, {'image_URL': 'https://images.pokemontcg.io/ecard1/logo.png', 'name': 'Expedition Base Set', 'series': 'E-Card', 'release_date': '2002/09/15', 'id': 'ecard1'}, {'image_URL': 'https://images.pokemontcg.io/base6/logo.png', 'name': 'Legendary Collection', 'series': 'Other', 'release_date': '2002/05/24', 'id': 'base6'}, {'image_URL': 'https://images.pokemontcg.io/neo4/logo.png', 'name': 'Neo Destiny', 'series': 'Neo', 'release_date': '2002/02/28', 'id': 'neo4'}, {'image_URL': 'https://images.pokemontcg.io/neo3/logo.png', 'name': 'Neo Revelation', 'series': 'Neo', 'release_date': '2001/09/21', 'id': 'neo3'}, {'image_URL': 'https://images.pokemontcg.io/si1/logo.png', 'name': 'Southern Islands', 'series': 'Other', 'release_date': '2001/07/31', 'id': 'si1'}, {'image_URL': 'https://images.pokemontcg.io/neo2/logo.png', 'name': 'Neo Discovery', 'series': 'Neo', 'release_date': '2001/06/01', 'id': 'neo2'}, {'image_URL': 'https://images.pokemontcg.io/neo1/logo.png', 'name': 'Neo Genesis', 'series': 'Neo', 'release_date': '2000/12/16', 'id': 'neo1'}, {'image_URL': 'https://images.pokemontcg.io/gym2/logo.png', 'name': 'Gym Challenge', 'series': 'Gym', 'release_date': '2000/10/16', 'id': 'gym2'}, {'image_URL': 'https://images.pokemontcg.io/gym1/logo.png', 'name': 'Gym Heroes', 'series': 'Gym', 'release_date': '2000/08/14', 'id': 'gym1'}, {'image_URL': 'https://images.pokemontcg.io/base5/logo.png', 'name': 'Team Rocket', 'series': 'Base', 'release_date': '2000/04/24', 'id': 'base5'}, {'image_URL': 'https://images.pokemontcg.io/base4/logo.png', 'name': 'Base Set 2', 'series': 'Base', 'release_date': '2000/02/24', 'id': 'base4'}, {'image_URL': 'https://images.pokemontcg.io/base3/logo.png', 'name': 'Fossil', 'series': 'Base', 'release_date': '1999/10/10', 'id': 'base3'}, {'image_URL': 'https://images.pokemontcg.io/basep/logo.png', 'name': 'Wizards Black Star Promos', 'series': 'Base', 'release_date': '1999/07/01', 'id': 'basep'}, {'image_URL': 'https://images.pokemontcg.io/base2/logo.png', 'name': 'Jungle', 'series': 'Base', 'release_date': '1999/06/16', 'id': 'base2'}, {'image_URL': 'https://images.pokemontcg.io/base1/logo.png', 'name': 'Base', 'series': 'Base', 'release_date': '1999/01/09', 'id': 'base1'}]\n"
     ]
    }
   ],
   "source": [
    "sets = Set.all()\n",
    "all_sets_data = []\n",
    "\n",
    "for card_set in sets:\n",
    "    all_sets_data.append({\"image_URL\":card_set.images.logo, \"name\":card_set.name, \"series\": card_set.series, \"release_date\": card_set.releaseDate, \"id\": card_set.id}) \n",
    "\n",
    "all_sets_data = list(sorted(all_sets_data, key = lambda item: item[\"release_date\"], reverse=True))\n",
    "print(all_sets_data)"
   ]
  },
  {
   "cell_type": "code",
   "execution_count": 26,
   "metadata": {},
   "outputs": [],
   "source": [
    "import pickle\n",
    "\n",
    "with open(\"all_sets.pkl\", \"wb\") as file:\n",
    "    pickle.dump(all_sets_data, file)"
   ]
  },
  {
   "attachments": {},
   "cell_type": "markdown",
   "metadata": {},
   "source": [
    "#### Card Caching"
   ]
  },
  {
   "cell_type": "code",
   "execution_count": 49,
   "metadata": {},
   "outputs": [],
   "source": [
    "sets = Set.all()\n",
    "all_set_ids = {card_set.id for card_set in sets}\n",
    "set_id = next(iter(all_set_ids))\n",
    "cards = Card.where(q=f'set.id:{set_id}')"
   ]
  },
  {
   "cell_type": "code",
   "execution_count": 62,
   "metadata": {},
   "outputs": [
    {
     "name": "stdout",
     "output_type": "stream",
     "text": [
      "6\n",
      "['001', '002', '003', '004', '005', '006', '007', '008', '009', '010', '011', '012', '013', '014', '015', '016', '017', '018', '019', '020', '021', '022', '023', '024', '025', '026', '027', '028', '029', '030', '031', '032', '033', '034', '035', '036', '037', '038', '039', '040', '041', '042', '043', '044', '045', '046', '047', '048', '049', '050', '051', '052', '053', '054', '055', '056', '057', '058', '059', '060', '061', '062', '063', '064', '065', '066', '067', '068', '069', '070', '071', '072', '073', '074', '075', '076', '077', '078', '079', '080', '081', '082', '083', '084', '085', '086', '087', '088', '089', '090', '091', '092', '093', '094', '095', '096', '097', '098', '099', '100']\n"
     ]
    }
   ],
   "source": [
    "import copy\n",
    "\n",
    "set_length = min([len(card.id) for card in cards]) - 1\n",
    "print(set_length)\n",
    "\n",
    "cards_sorted = []\n",
    "for card in cards:\n",
    "    new_card = copy.deepcopy(card)\n",
    "    new_card.id = card.id[6:]\n",
    "    while len(new_card.id) < 3:\n",
    "        new_card.id = \"0\" + new_card.id\n",
    "    cards_sorted.append(new_card)\n",
    "\n",
    "cards_sorted = sorted(cards_sorted, key = lambda x: x.id)\n",
    "\n",
    "print([card.id for card in cards_sorted][0:100])"
   ]
  },
  {
   "cell_type": "code",
   "execution_count": 3,
   "metadata": {},
   "outputs": [
    {
     "name": "stderr",
     "output_type": "stream",
     "text": [
      " 57%|█████▋    | 86/152 [04:58<02:45,  2.50s/it]"
     ]
    },
    {
     "name": "stdout",
     "output_type": "stream",
     "text": [
      "Issues with set: svp\n"
     ]
    },
    {
     "name": "stderr",
     "output_type": "stream",
     "text": [
      "100%|██████████| 152/152 [09:23<00:00,  3.71s/it]\n"
     ]
    }
   ],
   "source": [
    "sets = Set.all()\n",
    "all_set_ids = {card_set.id for card_set in sets}\n",
    "\n",
    "for set_id in tqdm(all_set_ids):\n",
    "    # Don't download if it exists\n",
    "    if os.path.exists(f\"card_db/card_data/{set_id}.pkl\"):\n",
    "        continue\n",
    "\n",
    "    # if a set is empty this will cause an error\n",
    "    try:\n",
    "        # Get all cards in the set\n",
    "        cards = Card.where(q=f'set.id:{set_id}')\n",
    "\n",
    "        # Sort the cards by id, this requires appending 0s to cards with id's under tripple digits\n",
    "        set_length = min([len(card.id) for card in cards]) - 1\n",
    "        cards_sorted = []\n",
    "        for card in cards:\n",
    "            card.id = card.id[set_length:]\n",
    "            while len(card.id) < 3:\n",
    "                card.id = \"0\" + card.id\n",
    "            cards_sorted.append(card)\n",
    "\n",
    "        cards_sorted = sorted(cards_sorted, key = lambda x: x.id)\n",
    "\n",
    "        with open(f\"card_db/card_data/{set_id}.pkl\", \"wb\") as file:\n",
    "            pickle.dump(cards, file)\n",
    "\n",
    "    except:\n",
    "        print(f\"Issues with set: {set_id}\")"
   ]
  },
  {
   "cell_type": "code",
   "execution_count": 4,
   "metadata": {},
   "outputs": [
    {
     "name": "stdout",
     "output_type": "stream",
     "text": [
      "[Card(abilities=[Ability(name='Darkness Shade', text='Once during your turn, when you put Darkrai from your hand onto your Bench, you may choose 1 of the Defending Pokémon. That Pokémon is now Asleep.', type='Poké-Power')], artist='Mitsuhiro Arita', ancientTrait=None, attacks=[Attack(name='Dark Slumber', cost=['Darkness'], convertedEnergyCost=1, damage='10', text=\"At the end of your opponent's next turn, the Defending Pokémon is now Asleep.\"), Attack(name='Dark Resolve', cost=['Darkness', 'Darkness', 'Colorless'], convertedEnergyCost=3, damage='40', text='If the Defending Pokémon is Asleep, remove 4 damage counters from Darkrai.')], cardmarket=Cardmarket(url='https://prices.pokemontcg.io/cardmarket/dp5-3', updatedAt='2023/05/24', prices=CardmarketPrices(averageSellPrice=12.85, lowPrice=0.5, trendPrice=11.61, germanProLow=0.0, suggestedPrice=0.0, reverseHoloSell=1.14, reverseHoloLow=2.49, reverseHoloTrend=2.3, lowPriceExPlus=2.5, avg1=5.99, avg7=11.83, avg30=5.79, reverseHoloAvg1=1.95, reverseHoloAvg7=2.65, reverseHoloAvg30=3.1)), convertedRetreatCost=2, evolvesFrom=None, flavorText='It can lull people to sleep and make them dream. It is active during nights of the new moon.', hp='80', id='003', images=CardImage(small='https://images.pokemontcg.io/dp5/3.png', large='https://images.pokemontcg.io/dp5/3_hires.png'), legalities=Legality(unlimited='Legal', expanded=None, standard=None), regulationMark=None, name='Darkrai', nationalPokedexNumbers=[491], number='3', rarity='Rare Holo', resistances=[Resistance(type='Psychic', value='-20')], retreatCost=['Colorless', 'Colorless'], rules=None, set=Set(id='dp5', images=SetImage(symbol='https://images.pokemontcg.io/dp5/symbol.png', logo='https://images.pokemontcg.io/dp5/logo.png'), legalities=Legality(unlimited='Legal', expanded=None, standard=None), name='Majestic Dawn', printedTotal=100, ptcgoCode='MD', releaseDate='2008/05/01', series='Diamond & Pearl', total=100, updatedAt='2018/03/04 10:35:00'), subtypes=['Basic'], supertype='Pokémon', tcgplayer=TCGPlayer(url='https://prices.pokemontcg.io/tcgplayer/dp5-3', updatedAt='2023/05/24', prices=TCGPrices(normal=None, holofoil=TCGPrice(low=16.0, mid=17.9, high=18.0, market=15.17, directLow=None), reverseHolofoil=TCGPrice(low=12.6, mid=19.18, high=25.69, market=21.17, directLow=None), firstEditionHolofoil=None, firstEditionNormal=None)), types=['Darkness'], weaknesses=[Weakness(type='Fighting', value='+20')]), Card(abilities=[Ability(name='Freezing Screech', text='Once during your turn, when you put Articuno from your hand onto your Bench, you may flip a coin. If heads, choose 1 of the Defending Pokémon. That Pokémon is now Paralyzed.', type='Poké-Power')], artist='Masakazu Fukuda', ancientTrait=None, attacks=[Attack(name='Blizzard', cost=['Water', 'Water', 'Colorless'], convertedEnergyCost=3, damage='60', text=\"Flip a coin. If heads, this attack does 10 damage to each of your opponent's Benched Pokémon. If tails, this attack does 10 damage to each of your Benched Pokémon. (Don't apply Weakness and Resistance for Benched Pokémon.)\")], cardmarket=Cardmarket(url='https://prices.pokemontcg.io/cardmarket/dp5-1', updatedAt='2023/05/24', prices=CardmarketPrices(averageSellPrice=9.02, lowPrice=1.0, trendPrice=8.38, germanProLow=0.0, suggestedPrice=0.0, reverseHoloSell=1.0, reverseHoloLow=1.45, reverseHoloTrend=7.64, lowPriceExPlus=3.5, avg1=7.98, avg7=8.59, avg30=7.77, reverseHoloAvg1=1.0, reverseHoloAvg7=5.13, reverseHoloAvg30=6.39)), convertedRetreatCost=2, evolvesFrom=None, flavorText='A legendary bird Pokémon. It can create blizzards by freezing moisture in the air.', hp='100', id='001', images=CardImage(small='https://images.pokemontcg.io/dp5/1.png', large='https://images.pokemontcg.io/dp5/1_hires.png'), legalities=Legality(unlimited='Legal', expanded=None, standard=None), regulationMark=None, name='Articuno', nationalPokedexNumbers=[144], number='1', rarity='Rare Holo', resistances=[Resistance(type='Fighting', value='-20')], retreatCost=['Colorless', 'Colorless'], rules=None, set=Set(id='dp5', images=SetImage(symbol='https://images.pokemontcg.io/dp5/symbol.png', logo='https://images.pokemontcg.io/dp5/logo.png'), legalities=Legality(unlimited='Legal', expanded=None, standard=None), name='Majestic Dawn', printedTotal=100, ptcgoCode='MD', releaseDate='2008/05/01', series='Diamond & Pearl', total=100, updatedAt='2018/03/04 10:35:00'), subtypes=['Basic'], supertype='Pokémon', tcgplayer=TCGPlayer(url='https://prices.pokemontcg.io/tcgplayer/dp5-1', updatedAt='2023/05/24', prices=TCGPrices(normal=None, holofoil=TCGPrice(low=8.0, mid=12.25, high=17.95, market=15.77, directLow=None), reverseHolofoil=TCGPrice(low=10.99, mid=12.55, high=47.94, market=12.98, directLow=None), firstEditionHolofoil=None, firstEditionNormal=None)), types=['Water'], weaknesses=[Weakness(type='Metal', value='×2')]), Card(abilities=None, artist='Mitsuhiro Arita', ancientTrait=None, attacks=[Attack(name='Future Sight', cost=['Colorless'], convertedEnergyCost=1, damage='', text=\"Look at the top 5 cards of either player's deck and put them back on top of that player's deck in any order.\"), Attack(name='Healing Light', cost=['Psychic', 'Psychic', 'Colorless'], convertedEnergyCost=3, damage='40', text='Remove 1 damage counter from each of your Pokémon.')], cardmarket=Cardmarket(url='https://prices.pokemontcg.io/cardmarket/dp5-2', updatedAt='2023/05/24', prices=CardmarketPrices(averageSellPrice=3.8, lowPrice=0.3, trendPrice=3.11, germanProLow=0.0, suggestedPrice=0.0, reverseHoloSell=0.0, reverseHoloLow=0.3, reverseHoloTrend=3.38, lowPriceExPlus=1.81, avg1=4.99, avg7=2.89, avg30=2.2, reverseHoloAvg1=4.9, reverseHoloAvg7=2.63, reverseHoloAvg30=2.36)), convertedRetreatCost=1, evolvesFrom=None, flavorText='Shiny particles are released from its wings like a veil. It is said to represent the crescent moon.', hp='70', id='002', images=CardImage(small='https://images.pokemontcg.io/dp5/2.png', large='https://images.pokemontcg.io/dp5/2_hires.png'), legalities=Legality(unlimited='Legal', expanded=None, standard=None), regulationMark=None, name='Cresselia', nationalPokedexNumbers=[488], number='2', rarity='Rare Holo', resistances=None, retreatCost=['Colorless'], rules=None, set=Set(id='dp5', images=SetImage(symbol='https://images.pokemontcg.io/dp5/symbol.png', logo='https://images.pokemontcg.io/dp5/logo.png'), legalities=Legality(unlimited='Legal', expanded=None, standard=None), name='Majestic Dawn', printedTotal=100, ptcgoCode='MD', releaseDate='2008/05/01', series='Diamond & Pearl', total=100, updatedAt='2018/03/04 10:35:00'), subtypes=['Basic'], supertype='Pokémon', tcgplayer=TCGPlayer(url='https://prices.pokemontcg.io/tcgplayer/dp5-2', updatedAt='2023/05/24', prices=TCGPrices(normal=None, holofoil=TCGPrice(low=2.5, mid=4.99, high=15.0, market=10.41, directLow=4.48), reverseHolofoil=TCGPrice(low=3.98, mid=4.44, high=9.0, market=1.47, directLow=None), firstEditionHolofoil=None, firstEditionNormal=None)), types=['Psychic'], weaknesses=[Weakness(type='Psychic', value='+20')]), Card(abilities=None, artist='Masakazu Fukuda', ancientTrait=None, attacks=[Attack(name='Time Shift', cost=['Metal'], convertedEnergyCost=1, damage='', text='Draw cards until you have 6 cards in your hand.'), Attack(name='Diamond Blast', cost=['Metal', 'Metal', 'Colorless', 'Colorless'], convertedEnergyCost=4, damage='60+', text='Flip a coin. If heads, this attack does 60 damage plus 20 more damage.')], cardmarket=Cardmarket(url='https://prices.pokemontcg.io/cardmarket/dp5-4', updatedAt='2023/05/24', prices=CardmarketPrices(averageSellPrice=6.85, lowPrice=0.5, trendPrice=5.19, germanProLow=0.0, suggestedPrice=0.0, reverseHoloSell=0.0, reverseHoloLow=1.49, reverseHoloTrend=2.26, lowPriceExPlus=3.49, avg1=0.3, avg7=5.5, avg30=5.99, reverseHoloAvg1=1.0, reverseHoloAvg7=2.65, reverseHoloAvg30=2.96)), convertedRetreatCost=3, evolvesFrom=None, flavorText=None, hp='100', id='004', images=CardImage(small='https://images.pokemontcg.io/dp5/4.png', large='https://images.pokemontcg.io/dp5/4_hires.png'), legalities=Legality(unlimited='Legal', expanded=None, standard=None), regulationMark=None, name='Dialga', nationalPokedexNumbers=[483], number='4', rarity='Rare Holo', resistances=[Resistance(type='Psychic', value='-20')], retreatCost=['Colorless', 'Colorless', 'Colorless'], rules=[\"Adamant Orb: If an Active Pokémon has Weakness to Metal type, Dialga's attacks do 20 more damage to that Pokémon (before applying Weakness and Resistance).\"], set=Set(id='dp5', images=SetImage(symbol='https://images.pokemontcg.io/dp5/symbol.png', logo='https://images.pokemontcg.io/dp5/logo.png'), legalities=Legality(unlimited='Legal', expanded=None, standard=None), name='Majestic Dawn', printedTotal=100, ptcgoCode='MD', releaseDate='2008/05/01', series='Diamond & Pearl', total=100, updatedAt='2018/03/04 10:35:00'), subtypes=['Basic'], supertype='Pokémon', tcgplayer=TCGPlayer(url='https://prices.pokemontcg.io/tcgplayer/dp5-4', updatedAt='2023/05/24', prices=TCGPrices(normal=None, holofoil=TCGPrice(low=6.49, mid=9.88, high=11.77, market=11.77, directLow=None), reverseHolofoil=TCGPrice(low=6.25, mid=6.84, high=14.11, market=12.62, directLow=None), firstEditionHolofoil=None, firstEditionNormal=None)), types=['Metal'], weaknesses=[Weakness(type='Fire', value='+20')]), Card(abilities=None, artist='Kouki Saitou', ancientTrait=None, attacks=[Attack(name='Bind Down', cost=['Grass'], convertedEnergyCost=1, damage='30', text=\"The Defending Pokémon can't retreat during your opponent's next turn.\"), Attack(name='Leaf Guard', cost=['Grass', 'Colorless', 'Colorless'], convertedEnergyCost=3, damage='60', text=\"During your opponent's next turn, any damage done to Leafeon by attacks is reduced by 20 (after applying Weakness and Resistance).\")], cardmarket=Cardmarket(url='https://prices.pokemontcg.io/cardmarket/dp5-7', updatedAt='2023/05/24', prices=CardmarketPrices(averageSellPrice=9.68, lowPrice=1.5, trendPrice=6.59, germanProLow=0.0, suggestedPrice=0.0, reverseHoloSell=19.99, reverseHoloLow=1.99, reverseHoloTrend=10.94, lowPriceExPlus=7.5, avg1=7.99, avg7=8.34, avg30=9.74, reverseHoloAvg1=19.99, reverseHoloAvg7=10.4, reverseHoloAvg30=9.46)), convertedRetreatCost=2, evolvesFrom='Eevee', flavorText='Just like a plant, it uses photosynthesis. As a result, it is always enveloped in clear air.', hp='90', id='007', images=CardImage(small='https://images.pokemontcg.io/dp5/7.png', large='https://images.pokemontcg.io/dp5/7_hires.png'), legalities=Legality(unlimited='Legal', expanded=None, standard=None), regulationMark=None, name='Leafeon', nationalPokedexNumbers=[470], number='7', rarity='Rare Holo', resistances=[Resistance(type='Water', value='-20')], retreatCost=['Colorless', 'Colorless'], rules=None, set=Set(id='dp5', images=SetImage(symbol='https://images.pokemontcg.io/dp5/symbol.png', logo='https://images.pokemontcg.io/dp5/logo.png'), legalities=Legality(unlimited='Legal', expanded=None, standard=None), name='Majestic Dawn', printedTotal=100, ptcgoCode='MD', releaseDate='2008/05/01', series='Diamond & Pearl', total=100, updatedAt='2018/03/04 10:35:00'), subtypes=['Stage 1'], supertype='Pokémon', tcgplayer=TCGPlayer(url='https://prices.pokemontcg.io/tcgplayer/dp5-7', updatedAt='2023/05/24', prices=TCGPrices(normal=None, holofoil=TCGPrice(low=10.92, mid=16.52, high=39.99, market=33.05, directLow=None), reverseHolofoil=TCGPrice(low=24.2, mid=25.68, high=42.0, market=25.08, directLow=29.99), firstEditionHolofoil=None, firstEditionNormal=None)), types=['Grass'], weaknesses=[Weakness(type='Fire', value='+20')])]\n"
     ]
    }
   ],
   "source": [
    "print(cards[:5])"
   ]
  },
  {
   "cell_type": "code",
   "execution_count": 19,
   "metadata": {},
   "outputs": [
    {
     "name": "stdout",
     "output_type": "stream",
     "text": [
      "CardImage(small='https://images.pokemontcg.io/mcd19/1.png', large='https://images.pokemontcg.io/mcd19/1_hires.png')\n",
      "Caterpie\n",
      "McDonald's Collection 2019\n",
      "\n",
      "\n",
      "CardImage(small='https://images.pokemontcg.io/mcd19/2.png', large='https://images.pokemontcg.io/mcd19/2_hires.png')\n",
      "Alolan Exeggutor\n",
      "McDonald's Collection 2019\n",
      "\n",
      "\n",
      "CardImage(small='https://images.pokemontcg.io/si1/1.png', large='https://images.pokemontcg.io/si1/1_hires.png')\n",
      "Mew\n",
      "Southern Islands\n",
      "\n",
      "\n",
      "CardImage(small='https://images.pokemontcg.io/mcd19/3.png', large='https://images.pokemontcg.io/mcd19/3_hires.png')\n",
      "Magmar\n",
      "McDonald's Collection 2019\n",
      "\n",
      "\n",
      "CardImage(small='https://images.pokemontcg.io/ru1/3.png', large='https://images.pokemontcg.io/ru1/3_hires.png')\n",
      "Ninetales\n",
      "Pokémon Rumble\n",
      "\n",
      "\n",
      "CardImage(small='https://images.pokemontcg.io/ru1/1.png', large='https://images.pokemontcg.io/ru1/1_hires.png')\n",
      "Venusaur\n",
      "Pokémon Rumble\n",
      "\n",
      "\n",
      "CardImage(small='https://images.pokemontcg.io/ru1/2.png', large='https://images.pokemontcg.io/ru1/2_hires.png')\n",
      "Cherrim\n",
      "Pokémon Rumble\n",
      "\n",
      "\n",
      "CardImage(small='https://images.pokemontcg.io/si1/2.png', large='https://images.pokemontcg.io/si1/2_hires.png')\n",
      "Pidgeot\n",
      "Southern Islands\n",
      "\n",
      "\n",
      "CardImage(small='https://images.pokemontcg.io/base6/1.png', large='https://images.pokemontcg.io/base6/1_hires.png')\n",
      "Alakazam\n",
      "Legendary Collection\n",
      "\n",
      "\n",
      "CardImage(small='https://images.pokemontcg.io/mcd19/4.png', large='https://images.pokemontcg.io/mcd19/4_hires.png')\n",
      "Alolan Sandshrew\n",
      "McDonald's Collection 2019\n",
      "\n",
      "\n",
      "CardImage(small='https://images.pokemontcg.io/base6/3.png', large='https://images.pokemontcg.io/base6/3_hires.png')\n",
      "Charizard\n",
      "Legendary Collection\n",
      "\n",
      "\n"
     ]
    }
   ],
   "source": [
    "for i, card in enumerate(cards):\n",
    "    if i > 10:\n",
    "        continue\n",
    "    print(card.images)\n",
    "    print(card.name)\n",
    "    print(card.set.name)\n",
    "    print()\n",
    "    print(\"\")"
   ]
  },
  {
   "cell_type": "code",
   "execution_count": null,
   "metadata": {},
   "outputs": [],
   "source": []
  }
 ],
 "metadata": {
  "kernelspec": {
   "display_name": "Python 3 (ipykernel)",
   "language": "python",
   "name": "python3"
  },
  "language_info": {
   "codemirror_mode": {
    "name": "ipython",
    "version": 3
   },
   "file_extension": ".py",
   "mimetype": "text/x-python",
   "name": "python",
   "nbconvert_exporter": "python",
   "pygments_lexer": "ipython3",
   "version": "3.11.2"
  }
 },
 "nbformat": 4,
 "nbformat_minor": 2
}
