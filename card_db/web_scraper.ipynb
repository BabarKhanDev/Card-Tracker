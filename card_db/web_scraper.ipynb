{
 "cells": [
  {
   "cell_type": "code",
   "execution_count": 3,
   "metadata": {},
   "outputs": [],
   "source": [
    "import requests\n",
    "from bs4 import BeautifulSoup\n",
    "import os\n",
    "from tqdm import tqdm\n",
    "import pickle"
   ]
  },
  {
   "cell_type": "code",
   "execution_count": 4,
   "metadata": {},
   "outputs": [],
   "source": [
    "def download_entire_set(href):\n",
    "    # Download the page for the set\n",
    "    URL = f\"https://www.pokellector.com{href}\"\n",
    "    set_page = requests.get(URL)\n",
    "    set_soup = BeautifulSoup(set_page.content, \"html.parser\")\n",
    "\n",
    "    # Loop through all cards in the set\n",
    "    cards = set_soup.find_all(\"div\", class_=\"card\")\n",
    "    for card in cards:\n",
    "        try:\n",
    "            card_page_ref = card.find_all(\"a\")[0].get(\"href\")\n",
    "            card_name = card_page_ref.split(\"/\")[2]\n",
    "            if os.path.exists(os.path.join(os.getcwd(), f\"sets\\{href[1:-1]}\", f\"{card_name}.jpg\")):\n",
    "                continue\n",
    "                \n",
    "            card_url = f\"https://www.pokellector.com{card_page_ref}\"\n",
    "            card_page = requests.get(card_url)\n",
    "            card_soup = BeautifulSoup(card_page.content, \"html.parser\")\n",
    "            \n",
    "            card_image_src = card_soup.find_all(\"div\", class_=\"card\")[0].find_all(\"img\")[0].get(\"src\")\n",
    "\n",
    "            img_data = requests.get(card_image_src).content\n",
    "            with open(f'sets{href}{card_name}.jpg', 'wb') as handler:\n",
    "                handler.write(img_data)\n",
    "        except:\n",
    "            pass"
   ]
  },
  {
   "cell_type": "code",
   "execution_count": 5,
   "metadata": {},
   "outputs": [
    {
     "name": "stderr",
     "output_type": "stream",
     "text": [
      " 89%|██████████████████████████████████████████████████████████████████████         | 134/151 [26:48<50:36, 178.62s/it]"
     ]
    }
   ],
   "source": [
    "URL = \"https://www.pokellector.com/sets\"\n",
    "page = requests.get(URL)\n",
    "soup = BeautifulSoup(page.content, \"html.parser\")\n",
    "results = soup.find_all(\"a\", {\"class\": \"button\"})\n",
    "\n",
    "for button in tqdm(results):\n",
    "    try:\n",
    "        href  = button.get(\"href\")\n",
    "        #os.makedirs(f\"sets{href}\")\n",
    "        download_entire_set(href)\n",
    "    except:\n",
    "        pass    "
   ]
  }
 ],
 "metadata": {
  "kernelspec": {
   "display_name": "Python 3 (ipykernel)",
   "language": "python",
   "name": "python3"
  },
  "language_info": {
   "codemirror_mode": {
    "name": "ipython",
    "version": 3
   },
   "file_extension": ".py",
   "mimetype": "text/x-python",
   "name": "python",
   "nbconvert_exporter": "python",
   "pygments_lexer": "ipython3",
   "version": "3.11.2"
  },
  "orig_nbformat": 4
 },
 "nbformat": 4,
 "nbformat_minor": 2
}
